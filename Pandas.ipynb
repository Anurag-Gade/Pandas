{
 "cells": [
  {
   "cell_type": "markdown",
   "metadata": {},
   "source": [
    "**Pandas Tutorial (2021)**\n",
    "\n",
    "What is Pandas?\n",
    "\n",
    "Pandas is a Python library which is highly instrumental in data analysis. Using Pnadas enables us to manipulate tabular data with ease.\n",
    "\n",
    "Pandas could be easily installed with the command pip install pandas. Pip is a package install manager for Python."
   ]
  },
  {
   "cell_type": "markdown",
   "metadata": {},
   "source": [
    "Pandas is most commonly imported as pd. "
   ]
  },
  {
   "cell_type": "code",
   "execution_count": 51,
   "metadata": {},
   "outputs": [],
   "source": [
    "import pandas as pd"
   ]
  },
  {
   "cell_type": "markdown",
   "metadata": {},
   "source": [
    "Pandas has 2 data structures - Series, and DataFrame."
   ]
  },
  {
   "cell_type": "markdown",
   "metadata": {},
   "source": [
    "What is a Series?\n",
    "\n",
    "Series is a data structure which is a 1-D labelled array."
   ]
  },
  {
   "cell_type": "code",
   "execution_count": 53,
   "metadata": {},
   "outputs": [],
   "source": [
    "ser = pd.Series(np.random.rand(10))"
   ]
  },
  {
   "cell_type": "code",
   "execution_count": 54,
   "metadata": {},
   "outputs": [
    {
     "data": {
      "text/plain": [
       "0    0.753730\n",
       "1    0.054749\n",
       "2    0.299950\n",
       "3    0.720911\n",
       "4    0.446544\n",
       "5    0.120719\n",
       "6    0.570212\n",
       "7    0.264391\n",
       "8    0.350184\n",
       "9    0.444691\n",
       "dtype: float64"
      ]
     },
     "execution_count": 54,
     "metadata": {},
     "output_type": "execute_result"
    }
   ],
   "source": [
    "ser"
   ]
  },
  {
   "cell_type": "code",
   "execution_count": 55,
   "metadata": {},
   "outputs": [
    {
     "data": {
      "text/plain": [
       "pandas.core.series.Series"
      ]
     },
     "execution_count": 55,
     "metadata": {},
     "output_type": "execute_result"
    }
   ],
   "source": [
    "type(ser) "
   ]
  },
  {
   "cell_type": "markdown",
   "metadata": {},
   "source": [
    "What is a DataFrame?\n",
    "\n",
    "A DataFrame is essentially a data structure which represents 2-dimensional data. Its representation scheme is comparable to that of a spreadsheet. It can be thought of a spreadsheet which can be used with Python."
   ]
  },
  {
   "cell_type": "markdown",
   "metadata": {},
   "source": [
    "To understand DataFrame better we will first construct it using a dictionary."
   ]
  },
  {
   "cell_type": "code",
   "execution_count": 118,
   "metadata": {},
   "outputs": [],
   "source": [
    "dict_1 = {\n",
    "    \"Country\":['USA', 'New Zealand', 'Australia', 'Canada'],\n",
    "    \"Capital\":['Washington DC', 'Wellington', 'Canberra', 'Ottawa'],\n",
    "    \"Largest City\":['New York City', 'Auckland', 'Sydney', 'Toronto'],\n",
    "    \"Population (in millions)\":[331, 5, 26, 38]\n",
    "}"
   ]
  },
  {
   "cell_type": "code",
   "execution_count": 119,
   "metadata": {},
   "outputs": [],
   "source": [
    "df = pd.DataFrame(dict_1) "
   ]
  },
  {
   "cell_type": "code",
   "execution_count": 120,
   "metadata": {},
   "outputs": [
    {
     "data": {
      "text/html": [
       "<div>\n",
       "<style scoped>\n",
       "    .dataframe tbody tr th:only-of-type {\n",
       "        vertical-align: middle;\n",
       "    }\n",
       "\n",
       "    .dataframe tbody tr th {\n",
       "        vertical-align: top;\n",
       "    }\n",
       "\n",
       "    .dataframe thead th {\n",
       "        text-align: right;\n",
       "    }\n",
       "</style>\n",
       "<table border=\"1\" class=\"dataframe\">\n",
       "  <thead>\n",
       "    <tr style=\"text-align: right;\">\n",
       "      <th></th>\n",
       "      <th>Country</th>\n",
       "      <th>Capital</th>\n",
       "      <th>Largest City</th>\n",
       "      <th>Population (in millions)</th>\n",
       "    </tr>\n",
       "  </thead>\n",
       "  <tbody>\n",
       "    <tr>\n",
       "      <th>0</th>\n",
       "      <td>USA</td>\n",
       "      <td>Washington DC</td>\n",
       "      <td>New York City</td>\n",
       "      <td>331</td>\n",
       "    </tr>\n",
       "    <tr>\n",
       "      <th>1</th>\n",
       "      <td>New Zealand</td>\n",
       "      <td>Wellington</td>\n",
       "      <td>Auckland</td>\n",
       "      <td>5</td>\n",
       "    </tr>\n",
       "    <tr>\n",
       "      <th>2</th>\n",
       "      <td>Australia</td>\n",
       "      <td>Canberra</td>\n",
       "      <td>Sydney</td>\n",
       "      <td>26</td>\n",
       "    </tr>\n",
       "    <tr>\n",
       "      <th>3</th>\n",
       "      <td>Canada</td>\n",
       "      <td>Ottawa</td>\n",
       "      <td>Toronto</td>\n",
       "      <td>38</td>\n",
       "    </tr>\n",
       "  </tbody>\n",
       "</table>\n",
       "</div>"
      ],
      "text/plain": [
       "       Country        Capital   Largest City  Population (in millions)\n",
       "0          USA  Washington DC  New York City                       331\n",
       "1  New Zealand     Wellington       Auckland                         5\n",
       "2    Australia       Canberra         Sydney                        26\n",
       "3       Canada         Ottawa        Toronto                        38"
      ]
     },
     "execution_count": 120,
     "metadata": {},
     "output_type": "execute_result"
    }
   ],
   "source": [
    "df"
   ]
  },
  {
   "cell_type": "code",
   "execution_count": 52,
   "metadata": {},
   "outputs": [
    {
     "data": {
      "text/plain": [
       "pandas.core.frame.DataFrame"
      ]
     },
     "execution_count": 52,
     "metadata": {},
     "output_type": "execute_result"
    }
   ],
   "source": [
    "type(df) "
   ]
  },
  {
   "cell_type": "markdown",
   "metadata": {},
   "source": [
    "We can also see the data types of the columns by using dtypes."
   ]
  },
  {
   "cell_type": "code",
   "execution_count": 58,
   "metadata": {},
   "outputs": [
    {
     "data": {
      "text/plain": [
       "Country                     object\n",
       "Capital                     object\n",
       "Largest City                object\n",
       "Population (in millions)     int64\n",
       "dtype: object"
      ]
     },
     "execution_count": 58,
     "metadata": {},
     "output_type": "execute_result"
    }
   ],
   "source": [
    "df.dtypes"
   ]
  },
  {
   "cell_type": "markdown",
   "metadata": {},
   "source": [
    "In the above DataFrame \"0\",\"1\",\"2\",\"3\" are known as **index** and \"Country\",\"Capital\",\"Largest City\",\"Population (in millions)\" are known as **columns**."
   ]
  },
  {
   "cell_type": "markdown",
   "metadata": {},
   "source": [
    "We can also construct a DataFrame from a NumPy array."
   ]
  },
  {
   "cell_type": "code",
   "execution_count": 10,
   "metadata": {},
   "outputs": [],
   "source": [
    "import numpy as np #Importing NumPy\n",
    "arr1 = np.array([[1,2,3],[4,5,6],[7,8,9]])\n",
    "columns = ['A', 'B', 'C']\n",
    "df2 = pd.DataFrame(arr1,columns)"
   ]
  },
  {
   "cell_type": "code",
   "execution_count": 11,
   "metadata": {},
   "outputs": [
    {
     "data": {
      "text/html": [
       "<div>\n",
       "<style scoped>\n",
       "    .dataframe tbody tr th:only-of-type {\n",
       "        vertical-align: middle;\n",
       "    }\n",
       "\n",
       "    .dataframe tbody tr th {\n",
       "        vertical-align: top;\n",
       "    }\n",
       "\n",
       "    .dataframe thead th {\n",
       "        text-align: right;\n",
       "    }\n",
       "</style>\n",
       "<table border=\"1\" class=\"dataframe\">\n",
       "  <thead>\n",
       "    <tr style=\"text-align: right;\">\n",
       "      <th></th>\n",
       "      <th>0</th>\n",
       "      <th>1</th>\n",
       "      <th>2</th>\n",
       "    </tr>\n",
       "  </thead>\n",
       "  <tbody>\n",
       "    <tr>\n",
       "      <th>A</th>\n",
       "      <td>1</td>\n",
       "      <td>2</td>\n",
       "      <td>3</td>\n",
       "    </tr>\n",
       "    <tr>\n",
       "      <th>B</th>\n",
       "      <td>4</td>\n",
       "      <td>5</td>\n",
       "      <td>6</td>\n",
       "    </tr>\n",
       "    <tr>\n",
       "      <th>C</th>\n",
       "      <td>7</td>\n",
       "      <td>8</td>\n",
       "      <td>9</td>\n",
       "    </tr>\n",
       "  </tbody>\n",
       "</table>\n",
       "</div>"
      ],
      "text/plain": [
       "   0  1  2\n",
       "A  1  2  3\n",
       "B  4  5  6\n",
       "C  7  8  9"
      ]
     },
     "execution_count": 11,
     "metadata": {},
     "output_type": "execute_result"
    }
   ],
   "source": [
    "df2"
   ]
  },
  {
   "cell_type": "markdown",
   "metadata": {},
   "source": [
    "We can save the DataFrame in a CSV (comma-seperated values) file which is basically viewed on spreadsheet programs. In short, we are converting our DataFrame into a spreadsheet."
   ]
  },
  {
   "cell_type": "code",
   "execution_count": 12,
   "metadata": {},
   "outputs": [],
   "source": [
    "df.to_csv('countries.csv') "
   ]
  },
  {
   "attachments": {
    "image.png": {
     "image/png": "[encoded data removed]"
    }
   },
   "cell_type": "markdown",
   "metadata": {},
   "source": [
    "![image.png](attachment:image.png)\n",
    "\n",
    "If you don't want to have the column containing indexes, assign index=False in the .to_csv."
   ]
  },
  {
   "cell_type": "markdown",
   "metadata": {},
   "source": [
    "To get the first **n** rows in the DataFrame we use tf.head(n). If n is not mentioned explicitly, n=5 is taken by default. Similarly to get the last **n** rows, we use tf.tail(n)."
   ]
  },
  {
   "cell_type": "code",
   "execution_count": 13,
   "metadata": {},
   "outputs": [
    {
     "data": {
      "text/html": [
       "<div>\n",
       "<style scoped>\n",
       "    .dataframe tbody tr th:only-of-type {\n",
       "        vertical-align: middle;\n",
       "    }\n",
       "\n",
       "    .dataframe tbody tr th {\n",
       "        vertical-align: top;\n",
       "    }\n",
       "\n",
       "    .dataframe thead th {\n",
       "        text-align: right;\n",
       "    }\n",
       "</style>\n",
       "<table border=\"1\" class=\"dataframe\">\n",
       "  <thead>\n",
       "    <tr style=\"text-align: right;\">\n",
       "      <th></th>\n",
       "      <th>Country</th>\n",
       "      <th>Capital</th>\n",
       "      <th>Largest City</th>\n",
       "      <th>Population (in millions)</th>\n",
       "    </tr>\n",
       "  </thead>\n",
       "  <tbody>\n",
       "    <tr>\n",
       "      <th>0</th>\n",
       "      <td>USA</td>\n",
       "      <td>Washington DC</td>\n",
       "      <td>New York City</td>\n",
       "      <td>331</td>\n",
       "    </tr>\n",
       "    <tr>\n",
       "      <th>1</th>\n",
       "      <td>New Zealand</td>\n",
       "      <td>Wellington</td>\n",
       "      <td>Auckland</td>\n",
       "      <td>5</td>\n",
       "    </tr>\n",
       "    <tr>\n",
       "      <th>2</th>\n",
       "      <td>Australia</td>\n",
       "      <td>Canberra</td>\n",
       "      <td>Sydney</td>\n",
       "      <td>26</td>\n",
       "    </tr>\n",
       "  </tbody>\n",
       "</table>\n",
       "</div>"
      ],
      "text/plain": [
       "       Country        Capital   Largest City  Population (in millions)\n",
       "0          USA  Washington DC  New York City                       331\n",
       "1  New Zealand     Wellington       Auckland                         5\n",
       "2    Australia       Canberra         Sydney                        26"
      ]
     },
     "execution_count": 13,
     "metadata": {},
     "output_type": "execute_result"
    }
   ],
   "source": [
    "df.head(3) "
   ]
  },
  {
   "cell_type": "code",
   "execution_count": 14,
   "metadata": {},
   "outputs": [
    {
     "data": {
      "text/html": [
       "<div>\n",
       "<style scoped>\n",
       "    .dataframe tbody tr th:only-of-type {\n",
       "        vertical-align: middle;\n",
       "    }\n",
       "\n",
       "    .dataframe tbody tr th {\n",
       "        vertical-align: top;\n",
       "    }\n",
       "\n",
       "    .dataframe thead th {\n",
       "        text-align: right;\n",
       "    }\n",
       "</style>\n",
       "<table border=\"1\" class=\"dataframe\">\n",
       "  <thead>\n",
       "    <tr style=\"text-align: right;\">\n",
       "      <th></th>\n",
       "      <th>Country</th>\n",
       "      <th>Capital</th>\n",
       "      <th>Largest City</th>\n",
       "      <th>Population (in millions)</th>\n",
       "    </tr>\n",
       "  </thead>\n",
       "  <tbody>\n",
       "    <tr>\n",
       "      <th>2</th>\n",
       "      <td>Australia</td>\n",
       "      <td>Canberra</td>\n",
       "      <td>Sydney</td>\n",
       "      <td>26</td>\n",
       "    </tr>\n",
       "    <tr>\n",
       "      <th>3</th>\n",
       "      <td>Canada</td>\n",
       "      <td>Ottawa</td>\n",
       "      <td>Toronto</td>\n",
       "      <td>38</td>\n",
       "    </tr>\n",
       "  </tbody>\n",
       "</table>\n",
       "</div>"
      ],
      "text/plain": [
       "     Country   Capital Largest City  Population (in millions)\n",
       "2  Australia  Canberra       Sydney                        26\n",
       "3     Canada    Ottawa      Toronto                        38"
      ]
     },
     "execution_count": 14,
     "metadata": {},
     "output_type": "execute_result"
    }
   ],
   "source": [
    "df.tail(2)"
   ]
  },
  {
   "cell_type": "code",
   "execution_count": 59,
   "metadata": {},
   "outputs": [
    {
     "data": {
      "text/plain": [
       "RangeIndex(start=0, stop=4, step=1)"
      ]
     },
     "execution_count": 59,
     "metadata": {},
     "output_type": "execute_result"
    }
   ],
   "source": [
    "df.index"
   ]
  },
  {
   "cell_type": "code",
   "execution_count": 60,
   "metadata": {},
   "outputs": [
    {
     "data": {
      "text/plain": [
       "Index(['Country', 'Capital', 'Largest City', 'Population (in millions)'], dtype='object')"
      ]
     },
     "execution_count": 60,
     "metadata": {},
     "output_type": "execute_result"
    }
   ],
   "source": [
    "df.columns"
   ]
  },
  {
   "cell_type": "markdown",
   "metadata": {},
   "source": [
    "df.describe() generates the descriptive statistics."
   ]
  },
  {
   "cell_type": "code",
   "execution_count": 15,
   "metadata": {},
   "outputs": [
    {
     "data": {
      "text/html": [
       "<div>\n",
       "<style scoped>\n",
       "    .dataframe tbody tr th:only-of-type {\n",
       "        vertical-align: middle;\n",
       "    }\n",
       "\n",
       "    .dataframe tbody tr th {\n",
       "        vertical-align: top;\n",
       "    }\n",
       "\n",
       "    .dataframe thead th {\n",
       "        text-align: right;\n",
       "    }\n",
       "</style>\n",
       "<table border=\"1\" class=\"dataframe\">\n",
       "  <thead>\n",
       "    <tr style=\"text-align: right;\">\n",
       "      <th></th>\n",
       "      <th>Population (in millions)</th>\n",
       "    </tr>\n",
       "  </thead>\n",
       "  <tbody>\n",
       "    <tr>\n",
       "      <th>count</th>\n",
       "      <td>4.000000</td>\n",
       "    </tr>\n",
       "    <tr>\n",
       "      <th>mean</th>\n",
       "      <td>100.000000</td>\n",
       "    </tr>\n",
       "    <tr>\n",
       "      <th>std</th>\n",
       "      <td>154.602717</td>\n",
       "    </tr>\n",
       "    <tr>\n",
       "      <th>min</th>\n",
       "      <td>5.000000</td>\n",
       "    </tr>\n",
       "    <tr>\n",
       "      <th>25%</th>\n",
       "      <td>20.750000</td>\n",
       "    </tr>\n",
       "    <tr>\n",
       "      <th>50%</th>\n",
       "      <td>32.000000</td>\n",
       "    </tr>\n",
       "    <tr>\n",
       "      <th>75%</th>\n",
       "      <td>111.250000</td>\n",
       "    </tr>\n",
       "    <tr>\n",
       "      <th>max</th>\n",
       "      <td>331.000000</td>\n",
       "    </tr>\n",
       "  </tbody>\n",
       "</table>\n",
       "</div>"
      ],
      "text/plain": [
       "       Population (in millions)\n",
       "count                  4.000000\n",
       "mean                 100.000000\n",
       "std                  154.602717\n",
       "min                    5.000000\n",
       "25%                   20.750000\n",
       "50%                   32.000000\n",
       "75%                  111.250000\n",
       "max                  331.000000"
      ]
     },
     "execution_count": 15,
     "metadata": {},
     "output_type": "execute_result"
    }
   ],
   "source": [
    "df.describe() "
   ]
  },
  {
   "cell_type": "code",
   "execution_count": 121,
   "metadata": {},
   "outputs": [
    {
     "data": {
      "text/plain": [
       "(4, 4)"
      ]
     },
     "execution_count": 121,
     "metadata": {},
     "output_type": "execute_result"
    }
   ],
   "source": [
    "df.shape"
   ]
  },
  {
   "cell_type": "markdown",
   "metadata": {},
   "source": [
    "Getting the desriptive statistics for a particular column."
   ]
  },
  {
   "cell_type": "code",
   "execution_count": 28,
   "metadata": {},
   "outputs": [],
   "source": [
    "dict_with_gdp = {\"Country\":['USA', 'New Zealand', 'Australia', 'Canada'],\n",
    "    \"Capital\":['Washington DC', 'Wellington', 'Canberra', 'Ottawa'],\n",
    "    \"Largest City\":['New York City', 'Auckland', 'Sydney', 'Toronto'],\n",
    "    \"Population\":[331, 5, 26, 38], #Population in millions\n",
    "    \"GDP\":[20000, 204, 1300, 1647]} #GDP in billions"
   ]
  },
  {
   "cell_type": "code",
   "execution_count": 29,
   "metadata": {},
   "outputs": [],
   "source": [
    "df_col = pd.DataFrame(dict_with_gdp)"
   ]
  },
  {
   "cell_type": "code",
   "execution_count": 30,
   "metadata": {},
   "outputs": [
    {
     "data": {
      "text/plain": [
       "count        4.000000\n",
       "mean      5787.750000\n",
       "std       9494.770925\n",
       "min        204.000000\n",
       "25%       1026.000000\n",
       "50%       1473.500000\n",
       "75%       6235.250000\n",
       "max      20000.000000\n",
       "Name: GDP, dtype: float64"
      ]
     },
     "execution_count": 30,
     "metadata": {},
     "output_type": "execute_result"
    }
   ],
   "source": [
    "df_col.GDP.describe() "
   ]
  },
  {
   "cell_type": "markdown",
   "metadata": {},
   "source": [
    "CSV files can be read into a Pandas DataFrame"
   ]
  },
  {
   "cell_type": "code",
   "execution_count": 34,
   "metadata": {},
   "outputs": [],
   "source": [
    "flight = pd.read_csv('flights_dummy.csv')"
   ]
  },
  {
   "cell_type": "code",
   "execution_count": 35,
   "metadata": {},
   "outputs": [
    {
     "data": {
      "text/html": [
       "<div>\n",
       "<style scoped>\n",
       "    .dataframe tbody tr th:only-of-type {\n",
       "        vertical-align: middle;\n",
       "    }\n",
       "\n",
       "    .dataframe tbody tr th {\n",
       "        vertical-align: top;\n",
       "    }\n",
       "\n",
       "    .dataframe thead th {\n",
       "        text-align: right;\n",
       "    }\n",
       "</style>\n",
       "<table border=\"1\" class=\"dataframe\">\n",
       "  <thead>\n",
       "    <tr style=\"text-align: right;\">\n",
       "      <th></th>\n",
       "      <th>Flight</th>\n",
       "      <th>Source</th>\n",
       "      <th>Destination</th>\n",
       "      <th>Distance</th>\n",
       "    </tr>\n",
       "  </thead>\n",
       "  <tbody>\n",
       "    <tr>\n",
       "      <th>0</th>\n",
       "      <td>1234</td>\n",
       "      <td>SFO</td>\n",
       "      <td>LA</td>\n",
       "      <td>123</td>\n",
       "    </tr>\n",
       "    <tr>\n",
       "      <th>1</th>\n",
       "      <td>2334</td>\n",
       "      <td>NYC</td>\n",
       "      <td>CHICAGO</td>\n",
       "      <td>222</td>\n",
       "    </tr>\n",
       "    <tr>\n",
       "      <th>2</th>\n",
       "      <td>3333</td>\n",
       "      <td>SEATTLE</td>\n",
       "      <td>DALLAS</td>\n",
       "      <td>373</td>\n",
       "    </tr>\n",
       "  </tbody>\n",
       "</table>\n",
       "</div>"
      ],
      "text/plain": [
       "   Flight   Source Destination  Distance \n",
       "0    1234      SFO          LA        123\n",
       "1    2334      NYC     CHICAGO        222\n",
       "2    3333  SEATTLE      DALLAS        373"
      ]
     },
     "execution_count": 35,
     "metadata": {},
     "output_type": "execute_result"
    }
   ],
   "source": [
    "flight"
   ]
  },
  {
   "cell_type": "markdown",
   "metadata": {},
   "source": [
    "Indexing a DataFrame"
   ]
  },
  {
   "cell_type": "code",
   "execution_count": 42,
   "metadata": {},
   "outputs": [],
   "source": [
    "a = flight['Flight']"
   ]
  },
  {
   "cell_type": "code",
   "execution_count": 43,
   "metadata": {},
   "outputs": [
    {
     "data": {
      "text/plain": [
       "3333"
      ]
     },
     "execution_count": 43,
     "metadata": {},
     "output_type": "execute_result"
    }
   ],
   "source": [
    "a[2] "
   ]
  },
  {
   "cell_type": "code",
   "execution_count": 44,
   "metadata": {},
   "outputs": [
    {
     "name": "stderr",
     "output_type": "stream",
     "text": [
      "<ipython-input-44-2f163b0b47ce>:1: SettingWithCopyWarning: \n",
      "A value is trying to be set on a copy of a slice from a DataFrame\n",
      "\n",
      "See the caveats in the documentation: https://pandas.pydata.org/pandas-docs/stable/user_guide/indexing.html#returning-a-view-versus-a-copy\n",
      "  a[2] = 4444\n"
     ]
    }
   ],
   "source": [
    "a[2] = 4444"
   ]
  },
  {
   "cell_type": "code",
   "execution_count": 45,
   "metadata": {},
   "outputs": [
    {
     "data": {
      "text/html": [
       "<div>\n",
       "<style scoped>\n",
       "    .dataframe tbody tr th:only-of-type {\n",
       "        vertical-align: middle;\n",
       "    }\n",
       "\n",
       "    .dataframe tbody tr th {\n",
       "        vertical-align: top;\n",
       "    }\n",
       "\n",
       "    .dataframe thead th {\n",
       "        text-align: right;\n",
       "    }\n",
       "</style>\n",
       "<table border=\"1\" class=\"dataframe\">\n",
       "  <thead>\n",
       "    <tr style=\"text-align: right;\">\n",
       "      <th></th>\n",
       "      <th>Flight</th>\n",
       "      <th>Source</th>\n",
       "      <th>Destination</th>\n",
       "      <th>Distance</th>\n",
       "    </tr>\n",
       "  </thead>\n",
       "  <tbody>\n",
       "    <tr>\n",
       "      <th>0</th>\n",
       "      <td>1234</td>\n",
       "      <td>SFO</td>\n",
       "      <td>LA</td>\n",
       "      <td>123</td>\n",
       "    </tr>\n",
       "    <tr>\n",
       "      <th>1</th>\n",
       "      <td>2334</td>\n",
       "      <td>NYC</td>\n",
       "      <td>CHICAGO</td>\n",
       "      <td>222</td>\n",
       "    </tr>\n",
       "    <tr>\n",
       "      <th>2</th>\n",
       "      <td>4444</td>\n",
       "      <td>SEATTLE</td>\n",
       "      <td>DALLAS</td>\n",
       "      <td>373</td>\n",
       "    </tr>\n",
       "  </tbody>\n",
       "</table>\n",
       "</div>"
      ],
      "text/plain": [
       "   Flight   Source Destination  Distance \n",
       "0    1234      SFO          LA        123\n",
       "1    2334      NYC     CHICAGO        222\n",
       "2    4444  SEATTLE      DALLAS        373"
      ]
     },
     "execution_count": 45,
     "metadata": {},
     "output_type": "execute_result"
    }
   ],
   "source": [
    "flight"
   ]
  },
  {
   "cell_type": "markdown",
   "metadata": {},
   "source": [
    "We can see that the value has changed in the DataFrame from 3333 to 4444."
   ]
  },
  {
   "cell_type": "markdown",
   "metadata": {},
   "source": [
    "Changing the indexes"
   ]
  },
  {
   "cell_type": "code",
   "execution_count": 48,
   "metadata": {},
   "outputs": [],
   "source": [
    "flight.index = ['zero','one','two']"
   ]
  },
  {
   "cell_type": "code",
   "execution_count": 49,
   "metadata": {},
   "outputs": [
    {
     "data": {
      "text/html": [
       "<div>\n",
       "<style scoped>\n",
       "    .dataframe tbody tr th:only-of-type {\n",
       "        vertical-align: middle;\n",
       "    }\n",
       "\n",
       "    .dataframe tbody tr th {\n",
       "        vertical-align: top;\n",
       "    }\n",
       "\n",
       "    .dataframe thead th {\n",
       "        text-align: right;\n",
       "    }\n",
       "</style>\n",
       "<table border=\"1\" class=\"dataframe\">\n",
       "  <thead>\n",
       "    <tr style=\"text-align: right;\">\n",
       "      <th></th>\n",
       "      <th>Flight</th>\n",
       "      <th>Source</th>\n",
       "      <th>Destination</th>\n",
       "      <th>Distance</th>\n",
       "    </tr>\n",
       "  </thead>\n",
       "  <tbody>\n",
       "    <tr>\n",
       "      <th>zero</th>\n",
       "      <td>1234</td>\n",
       "      <td>SFO</td>\n",
       "      <td>LA</td>\n",
       "      <td>123</td>\n",
       "    </tr>\n",
       "    <tr>\n",
       "      <th>one</th>\n",
       "      <td>2334</td>\n",
       "      <td>NYC</td>\n",
       "      <td>CHICAGO</td>\n",
       "      <td>222</td>\n",
       "    </tr>\n",
       "    <tr>\n",
       "      <th>two</th>\n",
       "      <td>4444</td>\n",
       "      <td>SEATTLE</td>\n",
       "      <td>DALLAS</td>\n",
       "      <td>373</td>\n",
       "    </tr>\n",
       "  </tbody>\n",
       "</table>\n",
       "</div>"
      ],
      "text/plain": [
       "      Flight   Source Destination  Distance \n",
       "zero    1234      SFO          LA        123\n",
       "one     2334      NYC     CHICAGO        222\n",
       "two     4444  SEATTLE      DALLAS        373"
      ]
     },
     "execution_count": 49,
     "metadata": {},
     "output_type": "execute_result"
    }
   ],
   "source": [
    "flight"
   ]
  },
  {
   "cell_type": "markdown",
   "metadata": {},
   "source": [
    "Converting a DataFrame into a NumPy array"
   ]
  },
  {
   "cell_type": "code",
   "execution_count": 63,
   "metadata": {},
   "outputs": [
    {
     "data": {
      "text/html": [
       "<div>\n",
       "<style scoped>\n",
       "    .dataframe tbody tr th:only-of-type {\n",
       "        vertical-align: middle;\n",
       "    }\n",
       "\n",
       "    .dataframe tbody tr th {\n",
       "        vertical-align: top;\n",
       "    }\n",
       "\n",
       "    .dataframe thead th {\n",
       "        text-align: right;\n",
       "    }\n",
       "</style>\n",
       "<table border=\"1\" class=\"dataframe\">\n",
       "  <thead>\n",
       "    <tr style=\"text-align: right;\">\n",
       "      <th></th>\n",
       "      <th>0</th>\n",
       "      <th>1</th>\n",
       "      <th>2</th>\n",
       "      <th>3</th>\n",
       "      <th>4</th>\n",
       "      <th>5</th>\n",
       "      <th>6</th>\n",
       "    </tr>\n",
       "  </thead>\n",
       "  <tbody>\n",
       "    <tr>\n",
       "      <th>0</th>\n",
       "      <td>0.898632</td>\n",
       "      <td>0.005346</td>\n",
       "      <td>0.939401</td>\n",
       "      <td>0.151118</td>\n",
       "      <td>0.536836</td>\n",
       "      <td>0.837365</td>\n",
       "      <td>0.833419</td>\n",
       "    </tr>\n",
       "    <tr>\n",
       "      <th>1</th>\n",
       "      <td>0.481194</td>\n",
       "      <td>0.239816</td>\n",
       "      <td>0.643364</td>\n",
       "      <td>0.761365</td>\n",
       "      <td>0.109498</td>\n",
       "      <td>0.849803</td>\n",
       "      <td>0.297943</td>\n",
       "    </tr>\n",
       "    <tr>\n",
       "      <th>2</th>\n",
       "      <td>0.162406</td>\n",
       "      <td>0.527130</td>\n",
       "      <td>0.507986</td>\n",
       "      <td>0.796635</td>\n",
       "      <td>0.221845</td>\n",
       "      <td>0.080798</td>\n",
       "      <td>0.502563</td>\n",
       "    </tr>\n",
       "    <tr>\n",
       "      <th>3</th>\n",
       "      <td>0.427946</td>\n",
       "      <td>0.652139</td>\n",
       "      <td>0.943437</td>\n",
       "      <td>0.229844</td>\n",
       "      <td>0.066474</td>\n",
       "      <td>0.333408</td>\n",
       "      <td>0.874652</td>\n",
       "    </tr>\n",
       "    <tr>\n",
       "      <th>4</th>\n",
       "      <td>0.315035</td>\n",
       "      <td>0.045623</td>\n",
       "      <td>0.907933</td>\n",
       "      <td>0.160159</td>\n",
       "      <td>0.556822</td>\n",
       "      <td>0.293995</td>\n",
       "      <td>0.189432</td>\n",
       "    </tr>\n",
       "    <tr>\n",
       "      <th>...</th>\n",
       "      <td>...</td>\n",
       "      <td>...</td>\n",
       "      <td>...</td>\n",
       "      <td>...</td>\n",
       "      <td>...</td>\n",
       "      <td>...</td>\n",
       "      <td>...</td>\n",
       "    </tr>\n",
       "    <tr>\n",
       "      <th>219</th>\n",
       "      <td>0.047654</td>\n",
       "      <td>0.008265</td>\n",
       "      <td>0.814721</td>\n",
       "      <td>0.225521</td>\n",
       "      <td>0.541664</td>\n",
       "      <td>0.706380</td>\n",
       "      <td>0.213784</td>\n",
       "    </tr>\n",
       "    <tr>\n",
       "      <th>220</th>\n",
       "      <td>0.505137</td>\n",
       "      <td>0.876163</td>\n",
       "      <td>0.065537</td>\n",
       "      <td>0.724447</td>\n",
       "      <td>0.350723</td>\n",
       "      <td>0.883075</td>\n",
       "      <td>0.622352</td>\n",
       "    </tr>\n",
       "    <tr>\n",
       "      <th>221</th>\n",
       "      <td>0.753787</td>\n",
       "      <td>0.518618</td>\n",
       "      <td>0.411176</td>\n",
       "      <td>0.168355</td>\n",
       "      <td>0.789829</td>\n",
       "      <td>0.667876</td>\n",
       "      <td>0.670288</td>\n",
       "    </tr>\n",
       "    <tr>\n",
       "      <th>222</th>\n",
       "      <td>0.779419</td>\n",
       "      <td>0.555038</td>\n",
       "      <td>0.007817</td>\n",
       "      <td>0.985963</td>\n",
       "      <td>0.020811</td>\n",
       "      <td>0.018969</td>\n",
       "      <td>0.739156</td>\n",
       "    </tr>\n",
       "    <tr>\n",
       "      <th>223</th>\n",
       "      <td>0.812455</td>\n",
       "      <td>0.833854</td>\n",
       "      <td>0.622673</td>\n",
       "      <td>0.718674</td>\n",
       "      <td>0.732592</td>\n",
       "      <td>0.873230</td>\n",
       "      <td>0.785704</td>\n",
       "    </tr>\n",
       "  </tbody>\n",
       "</table>\n",
       "<p>224 rows × 7 columns</p>\n",
       "</div>"
      ],
      "text/plain": [
       "            0         1         2         3         4         5         6\n",
       "0    0.898632  0.005346  0.939401  0.151118  0.536836  0.837365  0.833419\n",
       "1    0.481194  0.239816  0.643364  0.761365  0.109498  0.849803  0.297943\n",
       "2    0.162406  0.527130  0.507986  0.796635  0.221845  0.080798  0.502563\n",
       "3    0.427946  0.652139  0.943437  0.229844  0.066474  0.333408  0.874652\n",
       "4    0.315035  0.045623  0.907933  0.160159  0.556822  0.293995  0.189432\n",
       "..        ...       ...       ...       ...       ...       ...       ...\n",
       "219  0.047654  0.008265  0.814721  0.225521  0.541664  0.706380  0.213784\n",
       "220  0.505137  0.876163  0.065537  0.724447  0.350723  0.883075  0.622352\n",
       "221  0.753787  0.518618  0.411176  0.168355  0.789829  0.667876  0.670288\n",
       "222  0.779419  0.555038  0.007817  0.985963  0.020811  0.018969  0.739156\n",
       "223  0.812455  0.833854  0.622673  0.718674  0.732592  0.873230  0.785704\n",
       "\n",
       "[224 rows x 7 columns]"
      ]
     },
     "execution_count": 63,
     "metadata": {},
     "output_type": "execute_result"
    }
   ],
   "source": [
    "df_new = pd.DataFrame(np.random.rand(224,7)) \n",
    "df_new"
   ]
  },
  {
   "cell_type": "code",
   "execution_count": 66,
   "metadata": {},
   "outputs": [
    {
     "data": {
      "text/plain": [
       "array([[0.89863243, 0.0053459 , 0.93940085, ..., 0.53683629, 0.83736528,\n",
       "        0.83341857],\n",
       "       [0.4811944 , 0.23981628, 0.6433641 , ..., 0.10949772, 0.84980255,\n",
       "        0.29794324],\n",
       "       [0.16240639, 0.52712957, 0.50798558, ..., 0.22184498, 0.08079835,\n",
       "        0.50256299],\n",
       "       ...,\n",
       "       [0.7537873 , 0.51861778, 0.41117647, ..., 0.78982882, 0.66787603,\n",
       "        0.67028833],\n",
       "       [0.77941912, 0.55503758, 0.00781709, ..., 0.02081119, 0.01896911,\n",
       "        0.73915571],\n",
       "       [0.81245474, 0.83385443, 0.62267271, ..., 0.73259226, 0.87323035,\n",
       "        0.78570401]])"
      ]
     },
     "execution_count": 66,
     "metadata": {},
     "output_type": "execute_result"
    }
   ],
   "source": [
    "df_new.to_numpy() "
   ]
  },
  {
   "cell_type": "code",
   "execution_count": 69,
   "metadata": {},
   "outputs": [
    {
     "data": {
      "text/html": [
       "<div>\n",
       "<style scoped>\n",
       "    .dataframe tbody tr th:only-of-type {\n",
       "        vertical-align: middle;\n",
       "    }\n",
       "\n",
       "    .dataframe tbody tr th {\n",
       "        vertical-align: top;\n",
       "    }\n",
       "\n",
       "    .dataframe thead th {\n",
       "        text-align: right;\n",
       "    }\n",
       "</style>\n",
       "<table border=\"1\" class=\"dataframe\">\n",
       "  <thead>\n",
       "    <tr style=\"text-align: right;\">\n",
       "      <th></th>\n",
       "      <th>0</th>\n",
       "      <th>1</th>\n",
       "      <th>2</th>\n",
       "      <th>3</th>\n",
       "      <th>4</th>\n",
       "      <th>5</th>\n",
       "      <th>6</th>\n",
       "      <th>7</th>\n",
       "      <th>8</th>\n",
       "      <th>9</th>\n",
       "      <th>...</th>\n",
       "      <th>214</th>\n",
       "      <th>215</th>\n",
       "      <th>216</th>\n",
       "      <th>217</th>\n",
       "      <th>218</th>\n",
       "      <th>219</th>\n",
       "      <th>220</th>\n",
       "      <th>221</th>\n",
       "      <th>222</th>\n",
       "      <th>223</th>\n",
       "    </tr>\n",
       "  </thead>\n",
       "  <tbody>\n",
       "    <tr>\n",
       "      <th>0</th>\n",
       "      <td>0.898632</td>\n",
       "      <td>0.481194</td>\n",
       "      <td>0.162406</td>\n",
       "      <td>0.427946</td>\n",
       "      <td>0.315035</td>\n",
       "      <td>0.671888</td>\n",
       "      <td>0.526203</td>\n",
       "      <td>0.099844</td>\n",
       "      <td>0.731748</td>\n",
       "      <td>0.977033</td>\n",
       "      <td>...</td>\n",
       "      <td>0.076013</td>\n",
       "      <td>0.888145</td>\n",
       "      <td>0.067036</td>\n",
       "      <td>0.778462</td>\n",
       "      <td>0.291959</td>\n",
       "      <td>0.047654</td>\n",
       "      <td>0.505137</td>\n",
       "      <td>0.753787</td>\n",
       "      <td>0.779419</td>\n",
       "      <td>0.812455</td>\n",
       "    </tr>\n",
       "    <tr>\n",
       "      <th>1</th>\n",
       "      <td>0.005346</td>\n",
       "      <td>0.239816</td>\n",
       "      <td>0.527130</td>\n",
       "      <td>0.652139</td>\n",
       "      <td>0.045623</td>\n",
       "      <td>0.658877</td>\n",
       "      <td>0.824971</td>\n",
       "      <td>0.505013</td>\n",
       "      <td>0.274763</td>\n",
       "      <td>0.957452</td>\n",
       "      <td>...</td>\n",
       "      <td>0.902763</td>\n",
       "      <td>0.506577</td>\n",
       "      <td>0.421618</td>\n",
       "      <td>0.103586</td>\n",
       "      <td>0.491485</td>\n",
       "      <td>0.008265</td>\n",
       "      <td>0.876163</td>\n",
       "      <td>0.518618</td>\n",
       "      <td>0.555038</td>\n",
       "      <td>0.833854</td>\n",
       "    </tr>\n",
       "    <tr>\n",
       "      <th>2</th>\n",
       "      <td>0.939401</td>\n",
       "      <td>0.643364</td>\n",
       "      <td>0.507986</td>\n",
       "      <td>0.943437</td>\n",
       "      <td>0.907933</td>\n",
       "      <td>0.779484</td>\n",
       "      <td>0.747977</td>\n",
       "      <td>0.846405</td>\n",
       "      <td>0.773601</td>\n",
       "      <td>0.029956</td>\n",
       "      <td>...</td>\n",
       "      <td>0.400644</td>\n",
       "      <td>0.304749</td>\n",
       "      <td>0.364469</td>\n",
       "      <td>0.377537</td>\n",
       "      <td>0.244046</td>\n",
       "      <td>0.814721</td>\n",
       "      <td>0.065537</td>\n",
       "      <td>0.411176</td>\n",
       "      <td>0.007817</td>\n",
       "      <td>0.622673</td>\n",
       "    </tr>\n",
       "    <tr>\n",
       "      <th>3</th>\n",
       "      <td>0.151118</td>\n",
       "      <td>0.761365</td>\n",
       "      <td>0.796635</td>\n",
       "      <td>0.229844</td>\n",
       "      <td>0.160159</td>\n",
       "      <td>0.994886</td>\n",
       "      <td>0.840539</td>\n",
       "      <td>0.009128</td>\n",
       "      <td>0.950263</td>\n",
       "      <td>0.448881</td>\n",
       "      <td>...</td>\n",
       "      <td>0.530145</td>\n",
       "      <td>0.896166</td>\n",
       "      <td>0.671519</td>\n",
       "      <td>0.220051</td>\n",
       "      <td>0.420595</td>\n",
       "      <td>0.225521</td>\n",
       "      <td>0.724447</td>\n",
       "      <td>0.168355</td>\n",
       "      <td>0.985963</td>\n",
       "      <td>0.718674</td>\n",
       "    </tr>\n",
       "    <tr>\n",
       "      <th>4</th>\n",
       "      <td>0.536836</td>\n",
       "      <td>0.109498</td>\n",
       "      <td>0.221845</td>\n",
       "      <td>0.066474</td>\n",
       "      <td>0.556822</td>\n",
       "      <td>0.912678</td>\n",
       "      <td>0.364662</td>\n",
       "      <td>0.898230</td>\n",
       "      <td>0.345564</td>\n",
       "      <td>0.946931</td>\n",
       "      <td>...</td>\n",
       "      <td>0.299744</td>\n",
       "      <td>0.935824</td>\n",
       "      <td>0.168434</td>\n",
       "      <td>0.482944</td>\n",
       "      <td>0.320688</td>\n",
       "      <td>0.541664</td>\n",
       "      <td>0.350723</td>\n",
       "      <td>0.789829</td>\n",
       "      <td>0.020811</td>\n",
       "      <td>0.732592</td>\n",
       "    </tr>\n",
       "    <tr>\n",
       "      <th>5</th>\n",
       "      <td>0.837365</td>\n",
       "      <td>0.849803</td>\n",
       "      <td>0.080798</td>\n",
       "      <td>0.333408</td>\n",
       "      <td>0.293995</td>\n",
       "      <td>0.615400</td>\n",
       "      <td>0.746950</td>\n",
       "      <td>0.576198</td>\n",
       "      <td>0.828992</td>\n",
       "      <td>0.280622</td>\n",
       "      <td>...</td>\n",
       "      <td>0.122538</td>\n",
       "      <td>0.519978</td>\n",
       "      <td>0.020868</td>\n",
       "      <td>0.350935</td>\n",
       "      <td>0.158456</td>\n",
       "      <td>0.706380</td>\n",
       "      <td>0.883075</td>\n",
       "      <td>0.667876</td>\n",
       "      <td>0.018969</td>\n",
       "      <td>0.873230</td>\n",
       "    </tr>\n",
       "    <tr>\n",
       "      <th>6</th>\n",
       "      <td>0.833419</td>\n",
       "      <td>0.297943</td>\n",
       "      <td>0.502563</td>\n",
       "      <td>0.874652</td>\n",
       "      <td>0.189432</td>\n",
       "      <td>0.800275</td>\n",
       "      <td>0.867518</td>\n",
       "      <td>0.585098</td>\n",
       "      <td>0.333649</td>\n",
       "      <td>0.536461</td>\n",
       "      <td>...</td>\n",
       "      <td>0.533675</td>\n",
       "      <td>0.776837</td>\n",
       "      <td>0.130324</td>\n",
       "      <td>0.119987</td>\n",
       "      <td>0.261775</td>\n",
       "      <td>0.213784</td>\n",
       "      <td>0.622352</td>\n",
       "      <td>0.670288</td>\n",
       "      <td>0.739156</td>\n",
       "      <td>0.785704</td>\n",
       "    </tr>\n",
       "  </tbody>\n",
       "</table>\n",
       "<p>7 rows × 224 columns</p>\n",
       "</div>"
      ],
      "text/plain": [
       "        0         1         2         3         4         5         6    \\\n",
       "0  0.898632  0.481194  0.162406  0.427946  0.315035  0.671888  0.526203   \n",
       "1  0.005346  0.239816  0.527130  0.652139  0.045623  0.658877  0.824971   \n",
       "2  0.939401  0.643364  0.507986  0.943437  0.907933  0.779484  0.747977   \n",
       "3  0.151118  0.761365  0.796635  0.229844  0.160159  0.994886  0.840539   \n",
       "4  0.536836  0.109498  0.221845  0.066474  0.556822  0.912678  0.364662   \n",
       "5  0.837365  0.849803  0.080798  0.333408  0.293995  0.615400  0.746950   \n",
       "6  0.833419  0.297943  0.502563  0.874652  0.189432  0.800275  0.867518   \n",
       "\n",
       "        7         8         9    ...       214       215       216       217  \\\n",
       "0  0.099844  0.731748  0.977033  ...  0.076013  0.888145  0.067036  0.778462   \n",
       "1  0.505013  0.274763  0.957452  ...  0.902763  0.506577  0.421618  0.103586   \n",
       "2  0.846405  0.773601  0.029956  ...  0.400644  0.304749  0.364469  0.377537   \n",
       "3  0.009128  0.950263  0.448881  ...  0.530145  0.896166  0.671519  0.220051   \n",
       "4  0.898230  0.345564  0.946931  ...  0.299744  0.935824  0.168434  0.482944   \n",
       "5  0.576198  0.828992  0.280622  ...  0.122538  0.519978  0.020868  0.350935   \n",
       "6  0.585098  0.333649  0.536461  ...  0.533675  0.776837  0.130324  0.119987   \n",
       "\n",
       "        218       219       220       221       222       223  \n",
       "0  0.291959  0.047654  0.505137  0.753787  0.779419  0.812455  \n",
       "1  0.491485  0.008265  0.876163  0.518618  0.555038  0.833854  \n",
       "2  0.244046  0.814721  0.065537  0.411176  0.007817  0.622673  \n",
       "3  0.420595  0.225521  0.724447  0.168355  0.985963  0.718674  \n",
       "4  0.320688  0.541664  0.350723  0.789829  0.020811  0.732592  \n",
       "5  0.158456  0.706380  0.883075  0.667876  0.018969  0.873230  \n",
       "6  0.261775  0.213784  0.622352  0.670288  0.739156  0.785704  \n",
       "\n",
       "[7 rows x 224 columns]"
      ]
     },
     "execution_count": 69,
     "metadata": {},
     "output_type": "execute_result"
    }
   ],
   "source": [
    "df_new.T #Transpose of data-frame"
   ]
  },
  {
   "cell_type": "markdown",
   "metadata": {},
   "source": [
    "Sorting indexes in descending order"
   ]
  },
  {
   "cell_type": "code",
   "execution_count": 71,
   "metadata": {},
   "outputs": [
    {
     "data": {
      "text/html": [
       "<div>\n",
       "<style scoped>\n",
       "    .dataframe tbody tr th:only-of-type {\n",
       "        vertical-align: middle;\n",
       "    }\n",
       "\n",
       "    .dataframe tbody tr th {\n",
       "        vertical-align: top;\n",
       "    }\n",
       "\n",
       "    .dataframe thead th {\n",
       "        text-align: right;\n",
       "    }\n",
       "</style>\n",
       "<table border=\"1\" class=\"dataframe\">\n",
       "  <thead>\n",
       "    <tr style=\"text-align: right;\">\n",
       "      <th></th>\n",
       "      <th>0</th>\n",
       "      <th>1</th>\n",
       "      <th>2</th>\n",
       "      <th>3</th>\n",
       "      <th>4</th>\n",
       "      <th>5</th>\n",
       "      <th>6</th>\n",
       "    </tr>\n",
       "  </thead>\n",
       "  <tbody>\n",
       "    <tr>\n",
       "      <th>223</th>\n",
       "      <td>0.812455</td>\n",
       "      <td>0.833854</td>\n",
       "      <td>0.622673</td>\n",
       "      <td>0.718674</td>\n",
       "      <td>0.732592</td>\n",
       "      <td>0.873230</td>\n",
       "      <td>0.785704</td>\n",
       "    </tr>\n",
       "    <tr>\n",
       "      <th>222</th>\n",
       "      <td>0.779419</td>\n",
       "      <td>0.555038</td>\n",
       "      <td>0.007817</td>\n",
       "      <td>0.985963</td>\n",
       "      <td>0.020811</td>\n",
       "      <td>0.018969</td>\n",
       "      <td>0.739156</td>\n",
       "    </tr>\n",
       "    <tr>\n",
       "      <th>221</th>\n",
       "      <td>0.753787</td>\n",
       "      <td>0.518618</td>\n",
       "      <td>0.411176</td>\n",
       "      <td>0.168355</td>\n",
       "      <td>0.789829</td>\n",
       "      <td>0.667876</td>\n",
       "      <td>0.670288</td>\n",
       "    </tr>\n",
       "    <tr>\n",
       "      <th>220</th>\n",
       "      <td>0.505137</td>\n",
       "      <td>0.876163</td>\n",
       "      <td>0.065537</td>\n",
       "      <td>0.724447</td>\n",
       "      <td>0.350723</td>\n",
       "      <td>0.883075</td>\n",
       "      <td>0.622352</td>\n",
       "    </tr>\n",
       "    <tr>\n",
       "      <th>219</th>\n",
       "      <td>0.047654</td>\n",
       "      <td>0.008265</td>\n",
       "      <td>0.814721</td>\n",
       "      <td>0.225521</td>\n",
       "      <td>0.541664</td>\n",
       "      <td>0.706380</td>\n",
       "      <td>0.213784</td>\n",
       "    </tr>\n",
       "    <tr>\n",
       "      <th>...</th>\n",
       "      <td>...</td>\n",
       "      <td>...</td>\n",
       "      <td>...</td>\n",
       "      <td>...</td>\n",
       "      <td>...</td>\n",
       "      <td>...</td>\n",
       "      <td>...</td>\n",
       "    </tr>\n",
       "    <tr>\n",
       "      <th>4</th>\n",
       "      <td>0.315035</td>\n",
       "      <td>0.045623</td>\n",
       "      <td>0.907933</td>\n",
       "      <td>0.160159</td>\n",
       "      <td>0.556822</td>\n",
       "      <td>0.293995</td>\n",
       "      <td>0.189432</td>\n",
       "    </tr>\n",
       "    <tr>\n",
       "      <th>3</th>\n",
       "      <td>0.427946</td>\n",
       "      <td>0.652139</td>\n",
       "      <td>0.943437</td>\n",
       "      <td>0.229844</td>\n",
       "      <td>0.066474</td>\n",
       "      <td>0.333408</td>\n",
       "      <td>0.874652</td>\n",
       "    </tr>\n",
       "    <tr>\n",
       "      <th>2</th>\n",
       "      <td>0.162406</td>\n",
       "      <td>0.527130</td>\n",
       "      <td>0.507986</td>\n",
       "      <td>0.796635</td>\n",
       "      <td>0.221845</td>\n",
       "      <td>0.080798</td>\n",
       "      <td>0.502563</td>\n",
       "    </tr>\n",
       "    <tr>\n",
       "      <th>1</th>\n",
       "      <td>0.481194</td>\n",
       "      <td>0.239816</td>\n",
       "      <td>0.643364</td>\n",
       "      <td>0.761365</td>\n",
       "      <td>0.109498</td>\n",
       "      <td>0.849803</td>\n",
       "      <td>0.297943</td>\n",
       "    </tr>\n",
       "    <tr>\n",
       "      <th>0</th>\n",
       "      <td>0.898632</td>\n",
       "      <td>0.005346</td>\n",
       "      <td>0.939401</td>\n",
       "      <td>0.151118</td>\n",
       "      <td>0.536836</td>\n",
       "      <td>0.837365</td>\n",
       "      <td>0.833419</td>\n",
       "    </tr>\n",
       "  </tbody>\n",
       "</table>\n",
       "<p>224 rows × 7 columns</p>\n",
       "</div>"
      ],
      "text/plain": [
       "            0         1         2         3         4         5         6\n",
       "223  0.812455  0.833854  0.622673  0.718674  0.732592  0.873230  0.785704\n",
       "222  0.779419  0.555038  0.007817  0.985963  0.020811  0.018969  0.739156\n",
       "221  0.753787  0.518618  0.411176  0.168355  0.789829  0.667876  0.670288\n",
       "220  0.505137  0.876163  0.065537  0.724447  0.350723  0.883075  0.622352\n",
       "219  0.047654  0.008265  0.814721  0.225521  0.541664  0.706380  0.213784\n",
       "..        ...       ...       ...       ...       ...       ...       ...\n",
       "4    0.315035  0.045623  0.907933  0.160159  0.556822  0.293995  0.189432\n",
       "3    0.427946  0.652139  0.943437  0.229844  0.066474  0.333408  0.874652\n",
       "2    0.162406  0.527130  0.507986  0.796635  0.221845  0.080798  0.502563\n",
       "1    0.481194  0.239816  0.643364  0.761365  0.109498  0.849803  0.297943\n",
       "0    0.898632  0.005346  0.939401  0.151118  0.536836  0.837365  0.833419\n",
       "\n",
       "[224 rows x 7 columns]"
      ]
     },
     "execution_count": 71,
     "metadata": {},
     "output_type": "execute_result"
    }
   ],
   "source": [
    "df_new.sort_index(axis=0, ascending=False)"
   ]
  },
  {
   "cell_type": "markdown",
   "metadata": {},
   "source": [
    "axis = 0 is for rows, and axis = 1 is for columns. ascending=False implies descending order."
   ]
  },
  {
   "cell_type": "code",
   "execution_count": 74,
   "metadata": {},
   "outputs": [
    {
     "data": {
      "text/plain": [
       "0      0.939401\n",
       "1      0.643364\n",
       "2      0.507986\n",
       "3      0.943437\n",
       "4      0.907933\n",
       "         ...   \n",
       "219    0.814721\n",
       "220    0.065537\n",
       "221    0.411176\n",
       "222    0.007817\n",
       "223    0.622673\n",
       "Name: 2, Length: 224, dtype: float64"
      ]
     },
     "execution_count": 74,
     "metadata": {},
     "output_type": "execute_result"
    }
   ],
   "source": [
    "df_new[2] #Column corresponding to label 2 (i.e the 3rd column from the left as we are counting from 0) "
   ]
  },
  {
   "cell_type": "markdown",
   "metadata": {},
   "source": [
    "To create a copy of a DataFrame, use .copy(). If you assign a DataFrame to a variable, it would just create a view without actually making a copy."
   ]
  },
  {
   "cell_type": "markdown",
   "metadata": {},
   "source": [
    "We can remove an entire row/column from the DataFrame using .drop(). If we want to make this change effective to the original DataFrame, we set the inplace parameter to True."
   ]
  },
  {
   "cell_type": "code",
   "execution_count": 76,
   "metadata": {},
   "outputs": [
    {
     "data": {
      "text/html": [
       "<div>\n",
       "<style scoped>\n",
       "    .dataframe tbody tr th:only-of-type {\n",
       "        vertical-align: middle;\n",
       "    }\n",
       "\n",
       "    .dataframe tbody tr th {\n",
       "        vertical-align: top;\n",
       "    }\n",
       "\n",
       "    .dataframe thead th {\n",
       "        text-align: right;\n",
       "    }\n",
       "</style>\n",
       "<table border=\"1\" class=\"dataframe\">\n",
       "  <thead>\n",
       "    <tr style=\"text-align: right;\">\n",
       "      <th></th>\n",
       "      <th>0</th>\n",
       "      <th>1</th>\n",
       "      <th>2</th>\n",
       "      <th>3</th>\n",
       "      <th>4</th>\n",
       "      <th>5</th>\n",
       "    </tr>\n",
       "  </thead>\n",
       "  <tbody>\n",
       "    <tr>\n",
       "      <th>0</th>\n",
       "      <td>0.898632</td>\n",
       "      <td>0.005346</td>\n",
       "      <td>0.939401</td>\n",
       "      <td>0.151118</td>\n",
       "      <td>0.536836</td>\n",
       "      <td>0.837365</td>\n",
       "    </tr>\n",
       "    <tr>\n",
       "      <th>1</th>\n",
       "      <td>0.481194</td>\n",
       "      <td>0.239816</td>\n",
       "      <td>0.643364</td>\n",
       "      <td>0.761365</td>\n",
       "      <td>0.109498</td>\n",
       "      <td>0.849803</td>\n",
       "    </tr>\n",
       "    <tr>\n",
       "      <th>2</th>\n",
       "      <td>0.162406</td>\n",
       "      <td>0.527130</td>\n",
       "      <td>0.507986</td>\n",
       "      <td>0.796635</td>\n",
       "      <td>0.221845</td>\n",
       "      <td>0.080798</td>\n",
       "    </tr>\n",
       "    <tr>\n",
       "      <th>3</th>\n",
       "      <td>0.427946</td>\n",
       "      <td>0.652139</td>\n",
       "      <td>0.943437</td>\n",
       "      <td>0.229844</td>\n",
       "      <td>0.066474</td>\n",
       "      <td>0.333408</td>\n",
       "    </tr>\n",
       "    <tr>\n",
       "      <th>4</th>\n",
       "      <td>0.315035</td>\n",
       "      <td>0.045623</td>\n",
       "      <td>0.907933</td>\n",
       "      <td>0.160159</td>\n",
       "      <td>0.556822</td>\n",
       "      <td>0.293995</td>\n",
       "    </tr>\n",
       "    <tr>\n",
       "      <th>...</th>\n",
       "      <td>...</td>\n",
       "      <td>...</td>\n",
       "      <td>...</td>\n",
       "      <td>...</td>\n",
       "      <td>...</td>\n",
       "      <td>...</td>\n",
       "    </tr>\n",
       "    <tr>\n",
       "      <th>219</th>\n",
       "      <td>0.047654</td>\n",
       "      <td>0.008265</td>\n",
       "      <td>0.814721</td>\n",
       "      <td>0.225521</td>\n",
       "      <td>0.541664</td>\n",
       "      <td>0.706380</td>\n",
       "    </tr>\n",
       "    <tr>\n",
       "      <th>220</th>\n",
       "      <td>0.505137</td>\n",
       "      <td>0.876163</td>\n",
       "      <td>0.065537</td>\n",
       "      <td>0.724447</td>\n",
       "      <td>0.350723</td>\n",
       "      <td>0.883075</td>\n",
       "    </tr>\n",
       "    <tr>\n",
       "      <th>221</th>\n",
       "      <td>0.753787</td>\n",
       "      <td>0.518618</td>\n",
       "      <td>0.411176</td>\n",
       "      <td>0.168355</td>\n",
       "      <td>0.789829</td>\n",
       "      <td>0.667876</td>\n",
       "    </tr>\n",
       "    <tr>\n",
       "      <th>222</th>\n",
       "      <td>0.779419</td>\n",
       "      <td>0.555038</td>\n",
       "      <td>0.007817</td>\n",
       "      <td>0.985963</td>\n",
       "      <td>0.020811</td>\n",
       "      <td>0.018969</td>\n",
       "    </tr>\n",
       "    <tr>\n",
       "      <th>223</th>\n",
       "      <td>0.812455</td>\n",
       "      <td>0.833854</td>\n",
       "      <td>0.622673</td>\n",
       "      <td>0.718674</td>\n",
       "      <td>0.732592</td>\n",
       "      <td>0.873230</td>\n",
       "    </tr>\n",
       "  </tbody>\n",
       "</table>\n",
       "<p>224 rows × 6 columns</p>\n",
       "</div>"
      ],
      "text/plain": [
       "            0         1         2         3         4         5\n",
       "0    0.898632  0.005346  0.939401  0.151118  0.536836  0.837365\n",
       "1    0.481194  0.239816  0.643364  0.761365  0.109498  0.849803\n",
       "2    0.162406  0.527130  0.507986  0.796635  0.221845  0.080798\n",
       "3    0.427946  0.652139  0.943437  0.229844  0.066474  0.333408\n",
       "4    0.315035  0.045623  0.907933  0.160159  0.556822  0.293995\n",
       "..        ...       ...       ...       ...       ...       ...\n",
       "219  0.047654  0.008265  0.814721  0.225521  0.541664  0.706380\n",
       "220  0.505137  0.876163  0.065537  0.724447  0.350723  0.883075\n",
       "221  0.753787  0.518618  0.411176  0.168355  0.789829  0.667876\n",
       "222  0.779419  0.555038  0.007817  0.985963  0.020811  0.018969\n",
       "223  0.812455  0.833854  0.622673  0.718674  0.732592  0.873230\n",
       "\n",
       "[224 rows x 6 columns]"
      ]
     },
     "execution_count": 76,
     "metadata": {},
     "output_type": "execute_result"
    }
   ],
   "source": [
    "df_new.drop(6,axis=1) "
   ]
  },
  {
   "cell_type": "code",
   "execution_count": 77,
   "metadata": {},
   "outputs": [
    {
     "data": {
      "text/html": [
       "<div>\n",
       "<style scoped>\n",
       "    .dataframe tbody tr th:only-of-type {\n",
       "        vertical-align: middle;\n",
       "    }\n",
       "\n",
       "    .dataframe tbody tr th {\n",
       "        vertical-align: top;\n",
       "    }\n",
       "\n",
       "    .dataframe thead th {\n",
       "        text-align: right;\n",
       "    }\n",
       "</style>\n",
       "<table border=\"1\" class=\"dataframe\">\n",
       "  <thead>\n",
       "    <tr style=\"text-align: right;\">\n",
       "      <th></th>\n",
       "      <th>0</th>\n",
       "      <th>1</th>\n",
       "      <th>2</th>\n",
       "      <th>3</th>\n",
       "      <th>4</th>\n",
       "      <th>5</th>\n",
       "      <th>6</th>\n",
       "    </tr>\n",
       "  </thead>\n",
       "  <tbody>\n",
       "    <tr>\n",
       "      <th>0</th>\n",
       "      <td>0.898632</td>\n",
       "      <td>0.005346</td>\n",
       "      <td>0.939401</td>\n",
       "      <td>0.151118</td>\n",
       "      <td>0.536836</td>\n",
       "      <td>0.837365</td>\n",
       "      <td>0.833419</td>\n",
       "    </tr>\n",
       "    <tr>\n",
       "      <th>1</th>\n",
       "      <td>0.481194</td>\n",
       "      <td>0.239816</td>\n",
       "      <td>0.643364</td>\n",
       "      <td>0.761365</td>\n",
       "      <td>0.109498</td>\n",
       "      <td>0.849803</td>\n",
       "      <td>0.297943</td>\n",
       "    </tr>\n",
       "    <tr>\n",
       "      <th>2</th>\n",
       "      <td>0.162406</td>\n",
       "      <td>0.527130</td>\n",
       "      <td>0.507986</td>\n",
       "      <td>0.796635</td>\n",
       "      <td>0.221845</td>\n",
       "      <td>0.080798</td>\n",
       "      <td>0.502563</td>\n",
       "    </tr>\n",
       "    <tr>\n",
       "      <th>3</th>\n",
       "      <td>0.427946</td>\n",
       "      <td>0.652139</td>\n",
       "      <td>0.943437</td>\n",
       "      <td>0.229844</td>\n",
       "      <td>0.066474</td>\n",
       "      <td>0.333408</td>\n",
       "      <td>0.874652</td>\n",
       "    </tr>\n",
       "    <tr>\n",
       "      <th>4</th>\n",
       "      <td>0.315035</td>\n",
       "      <td>0.045623</td>\n",
       "      <td>0.907933</td>\n",
       "      <td>0.160159</td>\n",
       "      <td>0.556822</td>\n",
       "      <td>0.293995</td>\n",
       "      <td>0.189432</td>\n",
       "    </tr>\n",
       "    <tr>\n",
       "      <th>...</th>\n",
       "      <td>...</td>\n",
       "      <td>...</td>\n",
       "      <td>...</td>\n",
       "      <td>...</td>\n",
       "      <td>...</td>\n",
       "      <td>...</td>\n",
       "      <td>...</td>\n",
       "    </tr>\n",
       "    <tr>\n",
       "      <th>218</th>\n",
       "      <td>0.291959</td>\n",
       "      <td>0.491485</td>\n",
       "      <td>0.244046</td>\n",
       "      <td>0.420595</td>\n",
       "      <td>0.320688</td>\n",
       "      <td>0.158456</td>\n",
       "      <td>0.261775</td>\n",
       "    </tr>\n",
       "    <tr>\n",
       "      <th>219</th>\n",
       "      <td>0.047654</td>\n",
       "      <td>0.008265</td>\n",
       "      <td>0.814721</td>\n",
       "      <td>0.225521</td>\n",
       "      <td>0.541664</td>\n",
       "      <td>0.706380</td>\n",
       "      <td>0.213784</td>\n",
       "    </tr>\n",
       "    <tr>\n",
       "      <th>220</th>\n",
       "      <td>0.505137</td>\n",
       "      <td>0.876163</td>\n",
       "      <td>0.065537</td>\n",
       "      <td>0.724447</td>\n",
       "      <td>0.350723</td>\n",
       "      <td>0.883075</td>\n",
       "      <td>0.622352</td>\n",
       "    </tr>\n",
       "    <tr>\n",
       "      <th>221</th>\n",
       "      <td>0.753787</td>\n",
       "      <td>0.518618</td>\n",
       "      <td>0.411176</td>\n",
       "      <td>0.168355</td>\n",
       "      <td>0.789829</td>\n",
       "      <td>0.667876</td>\n",
       "      <td>0.670288</td>\n",
       "    </tr>\n",
       "    <tr>\n",
       "      <th>222</th>\n",
       "      <td>0.779419</td>\n",
       "      <td>0.555038</td>\n",
       "      <td>0.007817</td>\n",
       "      <td>0.985963</td>\n",
       "      <td>0.020811</td>\n",
       "      <td>0.018969</td>\n",
       "      <td>0.739156</td>\n",
       "    </tr>\n",
       "  </tbody>\n",
       "</table>\n",
       "<p>223 rows × 7 columns</p>\n",
       "</div>"
      ],
      "text/plain": [
       "            0         1         2         3         4         5         6\n",
       "0    0.898632  0.005346  0.939401  0.151118  0.536836  0.837365  0.833419\n",
       "1    0.481194  0.239816  0.643364  0.761365  0.109498  0.849803  0.297943\n",
       "2    0.162406  0.527130  0.507986  0.796635  0.221845  0.080798  0.502563\n",
       "3    0.427946  0.652139  0.943437  0.229844  0.066474  0.333408  0.874652\n",
       "4    0.315035  0.045623  0.907933  0.160159  0.556822  0.293995  0.189432\n",
       "..        ...       ...       ...       ...       ...       ...       ...\n",
       "218  0.291959  0.491485  0.244046  0.420595  0.320688  0.158456  0.261775\n",
       "219  0.047654  0.008265  0.814721  0.225521  0.541664  0.706380  0.213784\n",
       "220  0.505137  0.876163  0.065537  0.724447  0.350723  0.883075  0.622352\n",
       "221  0.753787  0.518618  0.411176  0.168355  0.789829  0.667876  0.670288\n",
       "222  0.779419  0.555038  0.007817  0.985963  0.020811  0.018969  0.739156\n",
       "\n",
       "[223 rows x 7 columns]"
      ]
     },
     "execution_count": 77,
     "metadata": {},
     "output_type": "execute_result"
    }
   ],
   "source": [
    "df_new.drop(223)"
   ]
  },
  {
   "cell_type": "markdown",
   "metadata": {},
   "source": [
    "We can also access a group of rows/columns based on their labels by using .loc[ ]."
   ]
  },
  {
   "cell_type": "code",
   "execution_count": 87,
   "metadata": {},
   "outputs": [
    {
     "data": {
      "text/html": [
       "<div>\n",
       "<style scoped>\n",
       "    .dataframe tbody tr th:only-of-type {\n",
       "        vertical-align: middle;\n",
       "    }\n",
       "\n",
       "    .dataframe tbody tr th {\n",
       "        vertical-align: top;\n",
       "    }\n",
       "\n",
       "    .dataframe thead th {\n",
       "        text-align: right;\n",
       "    }\n",
       "</style>\n",
       "<table border=\"1\" class=\"dataframe\">\n",
       "  <thead>\n",
       "    <tr style=\"text-align: right;\">\n",
       "      <th></th>\n",
       "      <th>3</th>\n",
       "    </tr>\n",
       "  </thead>\n",
       "  <tbody>\n",
       "    <tr>\n",
       "      <th>218</th>\n",
       "      <td>0.420595</td>\n",
       "    </tr>\n",
       "  </tbody>\n",
       "</table>\n",
       "</div>"
      ],
      "text/plain": [
       "            3\n",
       "218  0.420595"
      ]
     },
     "execution_count": 87,
     "metadata": {},
     "output_type": "execute_result"
    }
   ],
   "source": [
    "df_new.loc[[218],[3]] "
   ]
  },
  {
   "cell_type": "code",
   "execution_count": 88,
   "metadata": {},
   "outputs": [
    {
     "data": {
      "text/plain": [
       "0    0.291959\n",
       "1    0.491485\n",
       "2    0.244046\n",
       "3    0.420595\n",
       "4    0.320688\n",
       "5    0.158456\n",
       "6    0.261775\n",
       "Name: 218, dtype: float64"
      ]
     },
     "execution_count": 88,
     "metadata": {},
     "output_type": "execute_result"
    }
   ],
   "source": [
    "df_new.loc[218] "
   ]
  },
  {
   "cell_type": "code",
   "execution_count": 89,
   "metadata": {},
   "outputs": [
    {
     "data": {
      "text/plain": [
       "0      0.151118\n",
       "1      0.761365\n",
       "2      0.796635\n",
       "3      0.229844\n",
       "4      0.160159\n",
       "         ...   \n",
       "219    0.225521\n",
       "220    0.724447\n",
       "221    0.168355\n",
       "222    0.985963\n",
       "223    0.718674\n",
       "Name: 3, Length: 224, dtype: float64"
      ]
     },
     "execution_count": 89,
     "metadata": {},
     "output_type": "execute_result"
    }
   ],
   "source": [
    "df_new.loc[:,3] "
   ]
  },
  {
   "cell_type": "markdown",
   "metadata": {},
   "source": [
    "We can get condition-specific cell values in a DataFrame using .loc[ ]. We use .iloc[ ] if we require that particular value at that position."
   ]
  },
  {
   "cell_type": "code",
   "execution_count": 97,
   "metadata": {},
   "outputs": [
    {
     "data": {
      "text/html": [
       "<div>\n",
       "<style scoped>\n",
       "    .dataframe tbody tr th:only-of-type {\n",
       "        vertical-align: middle;\n",
       "    }\n",
       "\n",
       "    .dataframe tbody tr th {\n",
       "        vertical-align: top;\n",
       "    }\n",
       "\n",
       "    .dataframe thead th {\n",
       "        text-align: right;\n",
       "    }\n",
       "</style>\n",
       "<table border=\"1\" class=\"dataframe\">\n",
       "  <thead>\n",
       "    <tr style=\"text-align: right;\">\n",
       "      <th></th>\n",
       "      <th>0</th>\n",
       "      <th>1</th>\n",
       "      <th>2</th>\n",
       "      <th>3</th>\n",
       "      <th>4</th>\n",
       "      <th>5</th>\n",
       "      <th>6</th>\n",
       "    </tr>\n",
       "  </thead>\n",
       "  <tbody>\n",
       "    <tr>\n",
       "      <th>0</th>\n",
       "      <td>0.898632</td>\n",
       "      <td>0.005346</td>\n",
       "      <td>0.939401</td>\n",
       "      <td>0.151118</td>\n",
       "      <td>0.536836</td>\n",
       "      <td>0.837365</td>\n",
       "      <td>0.833419</td>\n",
       "    </tr>\n",
       "    <tr>\n",
       "      <th>1</th>\n",
       "      <td>0.481194</td>\n",
       "      <td>0.239816</td>\n",
       "      <td>0.643364</td>\n",
       "      <td>0.761365</td>\n",
       "      <td>0.109498</td>\n",
       "      <td>0.849803</td>\n",
       "      <td>0.297943</td>\n",
       "    </tr>\n",
       "    <tr>\n",
       "      <th>2</th>\n",
       "      <td>0.162406</td>\n",
       "      <td>0.527130</td>\n",
       "      <td>0.507986</td>\n",
       "      <td>0.796635</td>\n",
       "      <td>0.221845</td>\n",
       "      <td>0.080798</td>\n",
       "      <td>0.502563</td>\n",
       "    </tr>\n",
       "    <tr>\n",
       "      <th>3</th>\n",
       "      <td>0.427946</td>\n",
       "      <td>0.652139</td>\n",
       "      <td>0.943437</td>\n",
       "      <td>0.229844</td>\n",
       "      <td>0.066474</td>\n",
       "      <td>0.333408</td>\n",
       "      <td>0.874652</td>\n",
       "    </tr>\n",
       "    <tr>\n",
       "      <th>4</th>\n",
       "      <td>0.315035</td>\n",
       "      <td>0.045623</td>\n",
       "      <td>0.907933</td>\n",
       "      <td>0.160159</td>\n",
       "      <td>0.556822</td>\n",
       "      <td>0.293995</td>\n",
       "      <td>0.189432</td>\n",
       "    </tr>\n",
       "    <tr>\n",
       "      <th>...</th>\n",
       "      <td>...</td>\n",
       "      <td>...</td>\n",
       "      <td>...</td>\n",
       "      <td>...</td>\n",
       "      <td>...</td>\n",
       "      <td>...</td>\n",
       "      <td>...</td>\n",
       "    </tr>\n",
       "    <tr>\n",
       "      <th>203</th>\n",
       "      <td>0.320853</td>\n",
       "      <td>0.455706</td>\n",
       "      <td>0.690698</td>\n",
       "      <td>0.181179</td>\n",
       "      <td>0.145324</td>\n",
       "      <td>0.089534</td>\n",
       "      <td>0.767274</td>\n",
       "    </tr>\n",
       "    <tr>\n",
       "      <th>204</th>\n",
       "      <td>0.257578</td>\n",
       "      <td>0.280823</td>\n",
       "      <td>0.950109</td>\n",
       "      <td>0.390666</td>\n",
       "      <td>0.144453</td>\n",
       "      <td>0.719588</td>\n",
       "      <td>0.004693</td>\n",
       "    </tr>\n",
       "    <tr>\n",
       "      <th>208</th>\n",
       "      <td>0.398626</td>\n",
       "      <td>0.888193</td>\n",
       "      <td>0.992242</td>\n",
       "      <td>0.689360</td>\n",
       "      <td>0.116671</td>\n",
       "      <td>0.131778</td>\n",
       "      <td>0.590157</td>\n",
       "    </tr>\n",
       "    <tr>\n",
       "      <th>219</th>\n",
       "      <td>0.047654</td>\n",
       "      <td>0.008265</td>\n",
       "      <td>0.814721</td>\n",
       "      <td>0.225521</td>\n",
       "      <td>0.541664</td>\n",
       "      <td>0.706380</td>\n",
       "      <td>0.213784</td>\n",
       "    </tr>\n",
       "    <tr>\n",
       "      <th>223</th>\n",
       "      <td>0.812455</td>\n",
       "      <td>0.833854</td>\n",
       "      <td>0.622673</td>\n",
       "      <td>0.718674</td>\n",
       "      <td>0.732592</td>\n",
       "      <td>0.873230</td>\n",
       "      <td>0.785704</td>\n",
       "    </tr>\n",
       "  </tbody>\n",
       "</table>\n",
       "<p>106 rows × 7 columns</p>\n",
       "</div>"
      ],
      "text/plain": [
       "            0         1         2         3         4         5         6\n",
       "0    0.898632  0.005346  0.939401  0.151118  0.536836  0.837365  0.833419\n",
       "1    0.481194  0.239816  0.643364  0.761365  0.109498  0.849803  0.297943\n",
       "2    0.162406  0.527130  0.507986  0.796635  0.221845  0.080798  0.502563\n",
       "3    0.427946  0.652139  0.943437  0.229844  0.066474  0.333408  0.874652\n",
       "4    0.315035  0.045623  0.907933  0.160159  0.556822  0.293995  0.189432\n",
       "..        ...       ...       ...       ...       ...       ...       ...\n",
       "203  0.320853  0.455706  0.690698  0.181179  0.145324  0.089534  0.767274\n",
       "204  0.257578  0.280823  0.950109  0.390666  0.144453  0.719588  0.004693\n",
       "208  0.398626  0.888193  0.992242  0.689360  0.116671  0.131778  0.590157\n",
       "219  0.047654  0.008265  0.814721  0.225521  0.541664  0.706380  0.213784\n",
       "223  0.812455  0.833854  0.622673  0.718674  0.732592  0.873230  0.785704\n",
       "\n",
       "[106 rows x 7 columns]"
      ]
     },
     "execution_count": 97,
     "metadata": {},
     "output_type": "execute_result"
    }
   ],
   "source": [
    "df_new.loc[(df_new[2]>0.5) ]"
   ]
  },
  {
   "cell_type": "markdown",
   "metadata": {},
   "source": [
    "Changing the indexing scheme"
   ]
  },
  {
   "cell_type": "code",
   "execution_count": 103,
   "metadata": {},
   "outputs": [],
   "source": [
    "df_new.drop(2, axis=0, inplace=True)"
   ]
  },
  {
   "cell_type": "code",
   "execution_count": 104,
   "metadata": {},
   "outputs": [
    {
     "data": {
      "text/html": [
       "<div>\n",
       "<style scoped>\n",
       "    .dataframe tbody tr th:only-of-type {\n",
       "        vertical-align: middle;\n",
       "    }\n",
       "\n",
       "    .dataframe tbody tr th {\n",
       "        vertical-align: top;\n",
       "    }\n",
       "\n",
       "    .dataframe thead th {\n",
       "        text-align: right;\n",
       "    }\n",
       "</style>\n",
       "<table border=\"1\" class=\"dataframe\">\n",
       "  <thead>\n",
       "    <tr style=\"text-align: right;\">\n",
       "      <th></th>\n",
       "      <th>0</th>\n",
       "      <th>1</th>\n",
       "      <th>2</th>\n",
       "      <th>3</th>\n",
       "      <th>4</th>\n",
       "      <th>5</th>\n",
       "      <th>6</th>\n",
       "    </tr>\n",
       "  </thead>\n",
       "  <tbody>\n",
       "    <tr>\n",
       "      <th>0</th>\n",
       "      <td>0.898632</td>\n",
       "      <td>0.005346</td>\n",
       "      <td>0.939401</td>\n",
       "      <td>0.151118</td>\n",
       "      <td>0.536836</td>\n",
       "      <td>0.837365</td>\n",
       "      <td>0.833419</td>\n",
       "    </tr>\n",
       "    <tr>\n",
       "      <th>1</th>\n",
       "      <td>0.481194</td>\n",
       "      <td>0.239816</td>\n",
       "      <td>0.643364</td>\n",
       "      <td>0.761365</td>\n",
       "      <td>0.109498</td>\n",
       "      <td>0.849803</td>\n",
       "      <td>0.297943</td>\n",
       "    </tr>\n",
       "    <tr>\n",
       "      <th>3</th>\n",
       "      <td>0.427946</td>\n",
       "      <td>0.652139</td>\n",
       "      <td>0.943437</td>\n",
       "      <td>0.229844</td>\n",
       "      <td>0.066474</td>\n",
       "      <td>0.333408</td>\n",
       "      <td>0.874652</td>\n",
       "    </tr>\n",
       "    <tr>\n",
       "      <th>4</th>\n",
       "      <td>0.315035</td>\n",
       "      <td>0.045623</td>\n",
       "      <td>0.907933</td>\n",
       "      <td>0.160159</td>\n",
       "      <td>0.556822</td>\n",
       "      <td>0.293995</td>\n",
       "      <td>0.189432</td>\n",
       "    </tr>\n",
       "    <tr>\n",
       "      <th>5</th>\n",
       "      <td>0.671888</td>\n",
       "      <td>0.658877</td>\n",
       "      <td>0.779484</td>\n",
       "      <td>0.994886</td>\n",
       "      <td>0.912678</td>\n",
       "      <td>0.615400</td>\n",
       "      <td>0.800275</td>\n",
       "    </tr>\n",
       "  </tbody>\n",
       "</table>\n",
       "</div>"
      ],
      "text/plain": [
       "          0         1         2         3         4         5         6\n",
       "0  0.898632  0.005346  0.939401  0.151118  0.536836  0.837365  0.833419\n",
       "1  0.481194  0.239816  0.643364  0.761365  0.109498  0.849803  0.297943\n",
       "3  0.427946  0.652139  0.943437  0.229844  0.066474  0.333408  0.874652\n",
       "4  0.315035  0.045623  0.907933  0.160159  0.556822  0.293995  0.189432\n",
       "5  0.671888  0.658877  0.779484  0.994886  0.912678  0.615400  0.800275"
      ]
     },
     "execution_count": 104,
     "metadata": {},
     "output_type": "execute_result"
    }
   ],
   "source": [
    "df_new.head() "
   ]
  },
  {
   "cell_type": "code",
   "execution_count": 106,
   "metadata": {},
   "outputs": [
    {
     "data": {
      "text/html": [
       "<div>\n",
       "<style scoped>\n",
       "    .dataframe tbody tr th:only-of-type {\n",
       "        vertical-align: middle;\n",
       "    }\n",
       "\n",
       "    .dataframe tbody tr th {\n",
       "        vertical-align: top;\n",
       "    }\n",
       "\n",
       "    .dataframe thead th {\n",
       "        text-align: right;\n",
       "    }\n",
       "</style>\n",
       "<table border=\"1\" class=\"dataframe\">\n",
       "  <thead>\n",
       "    <tr style=\"text-align: right;\">\n",
       "      <th></th>\n",
       "      <th>index</th>\n",
       "      <th>0</th>\n",
       "      <th>1</th>\n",
       "      <th>2</th>\n",
       "      <th>3</th>\n",
       "      <th>4</th>\n",
       "      <th>5</th>\n",
       "      <th>6</th>\n",
       "    </tr>\n",
       "  </thead>\n",
       "  <tbody>\n",
       "    <tr>\n",
       "      <th>0</th>\n",
       "      <td>0</td>\n",
       "      <td>0.898632</td>\n",
       "      <td>0.005346</td>\n",
       "      <td>0.939401</td>\n",
       "      <td>0.151118</td>\n",
       "      <td>0.536836</td>\n",
       "      <td>0.837365</td>\n",
       "      <td>0.833419</td>\n",
       "    </tr>\n",
       "    <tr>\n",
       "      <th>1</th>\n",
       "      <td>1</td>\n",
       "      <td>0.481194</td>\n",
       "      <td>0.239816</td>\n",
       "      <td>0.643364</td>\n",
       "      <td>0.761365</td>\n",
       "      <td>0.109498</td>\n",
       "      <td>0.849803</td>\n",
       "      <td>0.297943</td>\n",
       "    </tr>\n",
       "    <tr>\n",
       "      <th>2</th>\n",
       "      <td>3</td>\n",
       "      <td>0.427946</td>\n",
       "      <td>0.652139</td>\n",
       "      <td>0.943437</td>\n",
       "      <td>0.229844</td>\n",
       "      <td>0.066474</td>\n",
       "      <td>0.333408</td>\n",
       "      <td>0.874652</td>\n",
       "    </tr>\n",
       "    <tr>\n",
       "      <th>3</th>\n",
       "      <td>4</td>\n",
       "      <td>0.315035</td>\n",
       "      <td>0.045623</td>\n",
       "      <td>0.907933</td>\n",
       "      <td>0.160159</td>\n",
       "      <td>0.556822</td>\n",
       "      <td>0.293995</td>\n",
       "      <td>0.189432</td>\n",
       "    </tr>\n",
       "    <tr>\n",
       "      <th>4</th>\n",
       "      <td>5</td>\n",
       "      <td>0.671888</td>\n",
       "      <td>0.658877</td>\n",
       "      <td>0.779484</td>\n",
       "      <td>0.994886</td>\n",
       "      <td>0.912678</td>\n",
       "      <td>0.615400</td>\n",
       "      <td>0.800275</td>\n",
       "    </tr>\n",
       "    <tr>\n",
       "      <th>...</th>\n",
       "      <td>...</td>\n",
       "      <td>...</td>\n",
       "      <td>...</td>\n",
       "      <td>...</td>\n",
       "      <td>...</td>\n",
       "      <td>...</td>\n",
       "      <td>...</td>\n",
       "      <td>...</td>\n",
       "    </tr>\n",
       "    <tr>\n",
       "      <th>218</th>\n",
       "      <td>219</td>\n",
       "      <td>0.047654</td>\n",
       "      <td>0.008265</td>\n",
       "      <td>0.814721</td>\n",
       "      <td>0.225521</td>\n",
       "      <td>0.541664</td>\n",
       "      <td>0.706380</td>\n",
       "      <td>0.213784</td>\n",
       "    </tr>\n",
       "    <tr>\n",
       "      <th>219</th>\n",
       "      <td>220</td>\n",
       "      <td>0.505137</td>\n",
       "      <td>0.876163</td>\n",
       "      <td>0.065537</td>\n",
       "      <td>0.724447</td>\n",
       "      <td>0.350723</td>\n",
       "      <td>0.883075</td>\n",
       "      <td>0.622352</td>\n",
       "    </tr>\n",
       "    <tr>\n",
       "      <th>220</th>\n",
       "      <td>221</td>\n",
       "      <td>0.753787</td>\n",
       "      <td>0.518618</td>\n",
       "      <td>0.411176</td>\n",
       "      <td>0.168355</td>\n",
       "      <td>0.789829</td>\n",
       "      <td>0.667876</td>\n",
       "      <td>0.670288</td>\n",
       "    </tr>\n",
       "    <tr>\n",
       "      <th>221</th>\n",
       "      <td>222</td>\n",
       "      <td>0.779419</td>\n",
       "      <td>0.555038</td>\n",
       "      <td>0.007817</td>\n",
       "      <td>0.985963</td>\n",
       "      <td>0.020811</td>\n",
       "      <td>0.018969</td>\n",
       "      <td>0.739156</td>\n",
       "    </tr>\n",
       "    <tr>\n",
       "      <th>222</th>\n",
       "      <td>223</td>\n",
       "      <td>0.812455</td>\n",
       "      <td>0.833854</td>\n",
       "      <td>0.622673</td>\n",
       "      <td>0.718674</td>\n",
       "      <td>0.732592</td>\n",
       "      <td>0.873230</td>\n",
       "      <td>0.785704</td>\n",
       "    </tr>\n",
       "  </tbody>\n",
       "</table>\n",
       "<p>223 rows × 8 columns</p>\n",
       "</div>"
      ],
      "text/plain": [
       "     index         0         1         2         3         4         5  \\\n",
       "0        0  0.898632  0.005346  0.939401  0.151118  0.536836  0.837365   \n",
       "1        1  0.481194  0.239816  0.643364  0.761365  0.109498  0.849803   \n",
       "2        3  0.427946  0.652139  0.943437  0.229844  0.066474  0.333408   \n",
       "3        4  0.315035  0.045623  0.907933  0.160159  0.556822  0.293995   \n",
       "4        5  0.671888  0.658877  0.779484  0.994886  0.912678  0.615400   \n",
       "..     ...       ...       ...       ...       ...       ...       ...   \n",
       "218    219  0.047654  0.008265  0.814721  0.225521  0.541664  0.706380   \n",
       "219    220  0.505137  0.876163  0.065537  0.724447  0.350723  0.883075   \n",
       "220    221  0.753787  0.518618  0.411176  0.168355  0.789829  0.667876   \n",
       "221    222  0.779419  0.555038  0.007817  0.985963  0.020811  0.018969   \n",
       "222    223  0.812455  0.833854  0.622673  0.718674  0.732592  0.873230   \n",
       "\n",
       "            6  \n",
       "0    0.833419  \n",
       "1    0.297943  \n",
       "2    0.874652  \n",
       "3    0.189432  \n",
       "4    0.800275  \n",
       "..        ...  \n",
       "218  0.213784  \n",
       "219  0.622352  \n",
       "220  0.670288  \n",
       "221  0.739156  \n",
       "222  0.785704  \n",
       "\n",
       "[223 rows x 8 columns]"
      ]
     },
     "execution_count": 106,
     "metadata": {},
     "output_type": "execute_result"
    }
   ],
   "source": [
    "df_new.reset_index() "
   ]
  },
  {
   "cell_type": "markdown",
   "metadata": {},
   "source": [
    "We will now remove the old index column from the DataFrame"
   ]
  },
  {
   "cell_type": "code",
   "execution_count": 107,
   "metadata": {},
   "outputs": [],
   "source": [
    "df_new.reset_index(drop=True, inplace=True) "
   ]
  },
  {
   "cell_type": "code",
   "execution_count": 108,
   "metadata": {},
   "outputs": [
    {
     "data": {
      "text/html": [
       "<div>\n",
       "<style scoped>\n",
       "    .dataframe tbody tr th:only-of-type {\n",
       "        vertical-align: middle;\n",
       "    }\n",
       "\n",
       "    .dataframe tbody tr th {\n",
       "        vertical-align: top;\n",
       "    }\n",
       "\n",
       "    .dataframe thead th {\n",
       "        text-align: right;\n",
       "    }\n",
       "</style>\n",
       "<table border=\"1\" class=\"dataframe\">\n",
       "  <thead>\n",
       "    <tr style=\"text-align: right;\">\n",
       "      <th></th>\n",
       "      <th>0</th>\n",
       "      <th>1</th>\n",
       "      <th>2</th>\n",
       "      <th>3</th>\n",
       "      <th>4</th>\n",
       "      <th>5</th>\n",
       "      <th>6</th>\n",
       "    </tr>\n",
       "  </thead>\n",
       "  <tbody>\n",
       "    <tr>\n",
       "      <th>0</th>\n",
       "      <td>0.898632</td>\n",
       "      <td>0.005346</td>\n",
       "      <td>0.939401</td>\n",
       "      <td>0.151118</td>\n",
       "      <td>0.536836</td>\n",
       "      <td>0.837365</td>\n",
       "      <td>0.833419</td>\n",
       "    </tr>\n",
       "    <tr>\n",
       "      <th>1</th>\n",
       "      <td>0.481194</td>\n",
       "      <td>0.239816</td>\n",
       "      <td>0.643364</td>\n",
       "      <td>0.761365</td>\n",
       "      <td>0.109498</td>\n",
       "      <td>0.849803</td>\n",
       "      <td>0.297943</td>\n",
       "    </tr>\n",
       "    <tr>\n",
       "      <th>2</th>\n",
       "      <td>0.427946</td>\n",
       "      <td>0.652139</td>\n",
       "      <td>0.943437</td>\n",
       "      <td>0.229844</td>\n",
       "      <td>0.066474</td>\n",
       "      <td>0.333408</td>\n",
       "      <td>0.874652</td>\n",
       "    </tr>\n",
       "    <tr>\n",
       "      <th>3</th>\n",
       "      <td>0.315035</td>\n",
       "      <td>0.045623</td>\n",
       "      <td>0.907933</td>\n",
       "      <td>0.160159</td>\n",
       "      <td>0.556822</td>\n",
       "      <td>0.293995</td>\n",
       "      <td>0.189432</td>\n",
       "    </tr>\n",
       "    <tr>\n",
       "      <th>4</th>\n",
       "      <td>0.671888</td>\n",
       "      <td>0.658877</td>\n",
       "      <td>0.779484</td>\n",
       "      <td>0.994886</td>\n",
       "      <td>0.912678</td>\n",
       "      <td>0.615400</td>\n",
       "      <td>0.800275</td>\n",
       "    </tr>\n",
       "    <tr>\n",
       "      <th>...</th>\n",
       "      <td>...</td>\n",
       "      <td>...</td>\n",
       "      <td>...</td>\n",
       "      <td>...</td>\n",
       "      <td>...</td>\n",
       "      <td>...</td>\n",
       "      <td>...</td>\n",
       "    </tr>\n",
       "    <tr>\n",
       "      <th>218</th>\n",
       "      <td>0.047654</td>\n",
       "      <td>0.008265</td>\n",
       "      <td>0.814721</td>\n",
       "      <td>0.225521</td>\n",
       "      <td>0.541664</td>\n",
       "      <td>0.706380</td>\n",
       "      <td>0.213784</td>\n",
       "    </tr>\n",
       "    <tr>\n",
       "      <th>219</th>\n",
       "      <td>0.505137</td>\n",
       "      <td>0.876163</td>\n",
       "      <td>0.065537</td>\n",
       "      <td>0.724447</td>\n",
       "      <td>0.350723</td>\n",
       "      <td>0.883075</td>\n",
       "      <td>0.622352</td>\n",
       "    </tr>\n",
       "    <tr>\n",
       "      <th>220</th>\n",
       "      <td>0.753787</td>\n",
       "      <td>0.518618</td>\n",
       "      <td>0.411176</td>\n",
       "      <td>0.168355</td>\n",
       "      <td>0.789829</td>\n",
       "      <td>0.667876</td>\n",
       "      <td>0.670288</td>\n",
       "    </tr>\n",
       "    <tr>\n",
       "      <th>221</th>\n",
       "      <td>0.779419</td>\n",
       "      <td>0.555038</td>\n",
       "      <td>0.007817</td>\n",
       "      <td>0.985963</td>\n",
       "      <td>0.020811</td>\n",
       "      <td>0.018969</td>\n",
       "      <td>0.739156</td>\n",
       "    </tr>\n",
       "    <tr>\n",
       "      <th>222</th>\n",
       "      <td>0.812455</td>\n",
       "      <td>0.833854</td>\n",
       "      <td>0.622673</td>\n",
       "      <td>0.718674</td>\n",
       "      <td>0.732592</td>\n",
       "      <td>0.873230</td>\n",
       "      <td>0.785704</td>\n",
       "    </tr>\n",
       "  </tbody>\n",
       "</table>\n",
       "<p>223 rows × 7 columns</p>\n",
       "</div>"
      ],
      "text/plain": [
       "            0         1         2         3         4         5         6\n",
       "0    0.898632  0.005346  0.939401  0.151118  0.536836  0.837365  0.833419\n",
       "1    0.481194  0.239816  0.643364  0.761365  0.109498  0.849803  0.297943\n",
       "2    0.427946  0.652139  0.943437  0.229844  0.066474  0.333408  0.874652\n",
       "3    0.315035  0.045623  0.907933  0.160159  0.556822  0.293995  0.189432\n",
       "4    0.671888  0.658877  0.779484  0.994886  0.912678  0.615400  0.800275\n",
       "..        ...       ...       ...       ...       ...       ...       ...\n",
       "218  0.047654  0.008265  0.814721  0.225521  0.541664  0.706380  0.213784\n",
       "219  0.505137  0.876163  0.065537  0.724447  0.350723  0.883075  0.622352\n",
       "220  0.753787  0.518618  0.411176  0.168355  0.789829  0.667876  0.670288\n",
       "221  0.779419  0.555038  0.007817  0.985963  0.020811  0.018969  0.739156\n",
       "222  0.812455  0.833854  0.622673  0.718674  0.732592  0.873230  0.785704\n",
       "\n",
       "[223 rows x 7 columns]"
      ]
     },
     "execution_count": 108,
     "metadata": {},
     "output_type": "execute_result"
    }
   ],
   "source": [
    "df_new"
   ]
  },
  {
   "cell_type": "markdown",
   "metadata": {},
   "source": [
    "We will check if we have any null values in our DataFrame"
   ]
  },
  {
   "cell_type": "code",
   "execution_count": 109,
   "metadata": {},
   "outputs": [
    {
     "data": {
      "text/plain": [
       "0      False\n",
       "1      False\n",
       "2      False\n",
       "3      False\n",
       "4      False\n",
       "       ...  \n",
       "218    False\n",
       "219    False\n",
       "220    False\n",
       "221    False\n",
       "222    False\n",
       "Name: 0, Length: 223, dtype: bool"
      ]
     },
     "execution_count": 109,
     "metadata": {},
     "output_type": "execute_result"
    }
   ],
   "source": [
    "df_new[0].isnull() "
   ]
  },
  {
   "cell_type": "code",
   "execution_count": 112,
   "metadata": {},
   "outputs": [],
   "source": [
    "df_3 = pd.DataFrame({\"name\": ['Alfred', 'Batman', 'Catwoman'],\n",
    "                   \"toy\": [np.nan, 'Batmobile', 'Bullwhip'],\n",
    "                   \"born\": [pd.NaT, pd.Timestamp(\"1940-04-25\"),\n",
    "                            pd.NaT]})"
   ]
  },
  {
   "cell_type": "code",
   "execution_count": 113,
   "metadata": {},
   "outputs": [
    {
     "data": {
      "text/html": [
       "<div>\n",
       "<style scoped>\n",
       "    .dataframe tbody tr th:only-of-type {\n",
       "        vertical-align: middle;\n",
       "    }\n",
       "\n",
       "    .dataframe tbody tr th {\n",
       "        vertical-align: top;\n",
       "    }\n",
       "\n",
       "    .dataframe thead th {\n",
       "        text-align: right;\n",
       "    }\n",
       "</style>\n",
       "<table border=\"1\" class=\"dataframe\">\n",
       "  <thead>\n",
       "    <tr style=\"text-align: right;\">\n",
       "      <th></th>\n",
       "      <th>name</th>\n",
       "      <th>toy</th>\n",
       "      <th>born</th>\n",
       "    </tr>\n",
       "  </thead>\n",
       "  <tbody>\n",
       "    <tr>\n",
       "      <th>0</th>\n",
       "      <td>Alfred</td>\n",
       "      <td>NaN</td>\n",
       "      <td>NaT</td>\n",
       "    </tr>\n",
       "    <tr>\n",
       "      <th>1</th>\n",
       "      <td>Batman</td>\n",
       "      <td>Batmobile</td>\n",
       "      <td>1940-04-25</td>\n",
       "    </tr>\n",
       "    <tr>\n",
       "      <th>2</th>\n",
       "      <td>Catwoman</td>\n",
       "      <td>Bullwhip</td>\n",
       "      <td>NaT</td>\n",
       "    </tr>\n",
       "  </tbody>\n",
       "</table>\n",
       "</div>"
      ],
      "text/plain": [
       "       name        toy       born\n",
       "0    Alfred        NaN        NaT\n",
       "1    Batman  Batmobile 1940-04-25\n",
       "2  Catwoman   Bullwhip        NaT"
      ]
     },
     "execution_count": 113,
     "metadata": {},
     "output_type": "execute_result"
    }
   ],
   "source": [
    "df_3"
   ]
  },
  {
   "cell_type": "code",
   "execution_count": 115,
   "metadata": {},
   "outputs": [
    {
     "data": {
      "text/html": [
       "<div>\n",
       "<style scoped>\n",
       "    .dataframe tbody tr th:only-of-type {\n",
       "        vertical-align: middle;\n",
       "    }\n",
       "\n",
       "    .dataframe tbody tr th {\n",
       "        vertical-align: top;\n",
       "    }\n",
       "\n",
       "    .dataframe thead th {\n",
       "        text-align: right;\n",
       "    }\n",
       "</style>\n",
       "<table border=\"1\" class=\"dataframe\">\n",
       "  <thead>\n",
       "    <tr style=\"text-align: right;\">\n",
       "      <th></th>\n",
       "      <th>name</th>\n",
       "      <th>toy</th>\n",
       "      <th>born</th>\n",
       "    </tr>\n",
       "  </thead>\n",
       "  <tbody>\n",
       "    <tr>\n",
       "      <th>1</th>\n",
       "      <td>Batman</td>\n",
       "      <td>Batmobile</td>\n",
       "      <td>1940-04-25</td>\n",
       "    </tr>\n",
       "  </tbody>\n",
       "</table>\n",
       "</div>"
      ],
      "text/plain": [
       "     name        toy       born\n",
       "1  Batman  Batmobile 1940-04-25"
      ]
     },
     "execution_count": 115,
     "metadata": {},
     "output_type": "execute_result"
    }
   ],
   "source": [
    "df_3.dropna()"
   ]
  },
  {
   "cell_type": "markdown",
   "metadata": {},
   "source": [
    "We can see that the missing values have been dropped from the DataFrame"
   ]
  },
  {
   "cell_type": "code",
   "execution_count": 122,
   "metadata": {},
   "outputs": [
    {
     "data": {
      "text/html": [
       "<div>\n",
       "<style scoped>\n",
       "    .dataframe tbody tr th:only-of-type {\n",
       "        vertical-align: middle;\n",
       "    }\n",
       "\n",
       "    .dataframe tbody tr th {\n",
       "        vertical-align: top;\n",
       "    }\n",
       "\n",
       "    .dataframe thead th {\n",
       "        text-align: right;\n",
       "    }\n",
       "</style>\n",
       "<table border=\"1\" class=\"dataframe\">\n",
       "  <thead>\n",
       "    <tr style=\"text-align: right;\">\n",
       "      <th></th>\n",
       "      <th>name</th>\n",
       "      <th>toy</th>\n",
       "      <th>born</th>\n",
       "    </tr>\n",
       "  </thead>\n",
       "  <tbody>\n",
       "    <tr>\n",
       "      <th>0</th>\n",
       "      <td>True</td>\n",
       "      <td>False</td>\n",
       "      <td>False</td>\n",
       "    </tr>\n",
       "    <tr>\n",
       "      <th>1</th>\n",
       "      <td>True</td>\n",
       "      <td>True</td>\n",
       "      <td>True</td>\n",
       "    </tr>\n",
       "    <tr>\n",
       "      <th>2</th>\n",
       "      <td>True</td>\n",
       "      <td>True</td>\n",
       "      <td>False</td>\n",
       "    </tr>\n",
       "  </tbody>\n",
       "</table>\n",
       "</div>"
      ],
      "text/plain": [
       "   name    toy   born\n",
       "0  True  False  False\n",
       "1  True   True   True\n",
       "2  True   True  False"
      ]
     },
     "execution_count": 122,
     "metadata": {},
     "output_type": "execute_result"
    }
   ],
   "source": [
    "df_3.notnull() "
   ]
  },
  {
   "cell_type": "code",
   "execution_count": null,
   "metadata": {},
   "outputs": [],
   "source": []
  }
 ],
 "metadata": {
  "kernelspec": {
   "display_name": "Python 3",
   "language": "python",
   "name": "python3"
  },
  "language_info": {
   "codemirror_mode": {
    "name": "ipython",
    "version": 3
   },
   "file_extension": ".py",
   "mimetype": "text/x-python",
   "name": "python",
   "nbconvert_exporter": "python",
   "pygments_lexer": "ipython3",
   "version": "3.8.3"
  }
 },
 "nbformat": 4,
 "nbformat_minor": 4
}
